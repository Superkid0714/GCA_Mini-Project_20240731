{
  "nbformat": 4,
  "nbformat_minor": 0,
  "metadata": {
    "colab": {
      "provenance": []
    },
    "kernelspec": {
      "name": "python3",
      "display_name": "Python 3"
    },
    "language_info": {
      "name": "python"
    }
  },
  "cells": [
    {
      "cell_type": "code",
      "execution_count": null,
      "metadata": {
        "id": "LUHqY_HCBXbe"
      },
      "outputs": [],
      "source": [
        "# 배열\n",
        "import numpy as np\n",
        "\n",
        "# 데이터 분석\n",
        "import pandas as pd"
      ]
    },
    {
      "cell_type": "code",
      "execution_count": null,
      "metadata": {
        "id": "ueW_zBbsC1Ec"
      },
      "outputs": [],
      "source": [
        "# Pandas option 정의\n",
        "pd.set_option( 'display.max_columns', 20 )\n",
        "pd.set_option( 'display.max_colwidth', 20 )\n",
        "pd.set_option( 'display.unicode.east_asian_width', True )"
      ]
    },
    {
      "cell_type": "code",
      "execution_count": null,
      "metadata": {
        "id": "sigX2TCdC3w4"
      },
      "outputs": [],
      "source": [
        "# 시각화\n",
        "import matplotlib.pyplot as plt\n",
        "import seaborn as sns"
      ]
    },
    {
      "cell_type": "code",
      "execution_count": null,
      "metadata": {
        "id": "7eZSfSAWCttp"
      },
      "outputs": [],
      "source": [
        "# Jupyter note상에 그래프 결과 포함 매직 명령\n",
        "%matplotlib inline\n",
        "\n",
        "# Matplotlib 기본 글꼴 정의\n",
        "plt.rc('font', size=14)\n",
        "plt.rc('axes', labelsize=14, titlesize=14)\n",
        "plt.rc('legend', fontsize=14)\n",
        "plt.rc('xtick', labelsize=10)\n",
        "plt.rc('ytick', labelsize=10)"
      ]
    },
    {
      "cell_type": "code",
      "execution_count": null,
      "metadata": {
        "id": "KIgznkF5Dd4S",
        "colab": {
          "base_uri": "https://localhost:8080/"
        },
        "outputId": "984e68fc-135d-4496-8a0e-f01da0cf69a8"
      },
      "outputs": [
        {
          "output_type": "stream",
          "name": "stdout",
          "text": [
            "Selecting previously unselected package fonts-nanum.\n",
            "(Reading database ... 123588 files and directories currently installed.)\n",
            "Preparing to unpack .../fonts-nanum_20200506-1_all.deb ...\n",
            "Unpacking fonts-nanum (20200506-1) ...\n",
            "Setting up fonts-nanum (20200506-1) ...\n",
            "Processing triggers for fontconfig (2.13.1-4.2ubuntu5) ...\n"
          ]
        }
      ],
      "source": [
        "import sys\n",
        "\n",
        "# 노트북이 코랩에서 실행 중인지 체크합니다.\n",
        "if 'google.colab' in sys.modules:\n",
        "    !echo 'debconf debconf/frontend select Noninteractive' | debconf-set-selections\n",
        "\n",
        "    # 나눔 폰트를 설치합니다.\n",
        "    !sudo apt-get -qq -y install fonts-nanum\n",
        "    import matplotlib.font_manager as fm\n",
        "    font_files = fm.findSystemFonts(fontpaths=['/usr/share/fonts/truetype/nanum'])\n",
        "    for fpath in font_files:\n",
        "        fm.fontManager.addfont(fpath)\n",
        "\n",
        "#     # 나눔바른고딕 폰트로 설정합니다.\n",
        "    import matplotlib.pyplot as plt\n",
        "    plt.rc('font', family='NanumBarunGothic')\n",
        "\n",
        "#     # 마이너스 기호 표시 오류 수정\n",
        "    import matplotlib\n",
        "    matplotlib.rcParams['axes.unicode_minus'] = False"
      ]
    },
    {
      "cell_type": "code",
      "execution_count": null,
      "metadata": {
        "id": "7qgQpdtgCwHF"
      },
      "outputs": [],
      "source": [
        "# 경고 문제 출력 제한\n",
        "import warnings\n",
        "\n",
        "warnings.filterwarnings( 'ignore' )"
      ]
    },
    {
      "cell_type": "code",
      "execution_count": null,
      "metadata": {
        "colab": {
          "base_uri": "https://localhost:8080/",
          "height": 1000
        },
        "id": "BwTdSE44NZAb",
        "outputId": "d7d67d55-dda5-4cff-fda6-305ef1ba4d4b"
      },
      "outputs": [
        {
          "output_type": "stream",
          "name": "stdout",
          "text": [
            "Collecting tensorflow==2.13.1\n",
            "  Downloading tensorflow-2.13.1-cp310-cp310-manylinux_2_17_x86_64.manylinux2014_x86_64.whl.metadata (3.4 kB)\n",
            "Requirement already satisfied: absl-py>=1.0.0 in /usr/local/lib/python3.10/dist-packages (from tensorflow==2.13.1) (1.4.0)\n",
            "Requirement already satisfied: astunparse>=1.6.0 in /usr/local/lib/python3.10/dist-packages (from tensorflow==2.13.1) (1.6.3)\n",
            "Requirement already satisfied: flatbuffers>=23.1.21 in /usr/local/lib/python3.10/dist-packages (from tensorflow==2.13.1) (24.3.25)\n",
            "Collecting gast<=0.4.0,>=0.2.1 (from tensorflow==2.13.1)\n",
            "  Downloading gast-0.4.0-py3-none-any.whl.metadata (1.1 kB)\n",
            "Requirement already satisfied: google-pasta>=0.1.1 in /usr/local/lib/python3.10/dist-packages (from tensorflow==2.13.1) (0.2.0)\n",
            "Requirement already satisfied: grpcio<2.0,>=1.24.3 in /usr/local/lib/python3.10/dist-packages (from tensorflow==2.13.1) (1.64.1)\n",
            "Requirement already satisfied: h5py>=2.9.0 in /usr/local/lib/python3.10/dist-packages (from tensorflow==2.13.1) (3.11.0)\n",
            "Collecting keras<2.14,>=2.13.1 (from tensorflow==2.13.1)\n",
            "  Downloading keras-2.13.1-py3-none-any.whl.metadata (2.4 kB)\n",
            "Requirement already satisfied: libclang>=13.0.0 in /usr/local/lib/python3.10/dist-packages (from tensorflow==2.13.1) (18.1.1)\n",
            "Collecting numpy<=1.24.3,>=1.22 (from tensorflow==2.13.1)\n",
            "  Downloading numpy-1.24.3-cp310-cp310-manylinux_2_17_x86_64.manylinux2014_x86_64.whl.metadata (5.6 kB)\n",
            "Requirement already satisfied: opt-einsum>=2.3.2 in /usr/local/lib/python3.10/dist-packages (from tensorflow==2.13.1) (3.3.0)\n",
            "Requirement already satisfied: packaging in /usr/local/lib/python3.10/dist-packages (from tensorflow==2.13.1) (24.1)\n",
            "Requirement already satisfied: protobuf!=4.21.0,!=4.21.1,!=4.21.2,!=4.21.3,!=4.21.4,!=4.21.5,<5.0.0dev,>=3.20.3 in /usr/local/lib/python3.10/dist-packages (from tensorflow==2.13.1) (3.20.3)\n",
            "Requirement already satisfied: setuptools in /usr/local/lib/python3.10/dist-packages (from tensorflow==2.13.1) (71.0.4)\n",
            "Requirement already satisfied: six>=1.12.0 in /usr/local/lib/python3.10/dist-packages (from tensorflow==2.13.1) (1.16.0)\n",
            "Collecting tensorboard<2.14,>=2.13 (from tensorflow==2.13.1)\n",
            "  Downloading tensorboard-2.13.0-py3-none-any.whl.metadata (1.8 kB)\n",
            "Collecting tensorflow-estimator<2.14,>=2.13.0 (from tensorflow==2.13.1)\n",
            "  Downloading tensorflow_estimator-2.13.0-py2.py3-none-any.whl.metadata (1.3 kB)\n",
            "Requirement already satisfied: termcolor>=1.1.0 in /usr/local/lib/python3.10/dist-packages (from tensorflow==2.13.1) (2.4.0)\n",
            "Collecting typing-extensions<4.6.0,>=3.6.6 (from tensorflow==2.13.1)\n",
            "  Downloading typing_extensions-4.5.0-py3-none-any.whl.metadata (8.5 kB)\n",
            "Requirement already satisfied: wrapt>=1.11.0 in /usr/local/lib/python3.10/dist-packages (from tensorflow==2.13.1) (1.14.1)\n",
            "Requirement already satisfied: tensorflow-io-gcs-filesystem>=0.23.1 in /usr/local/lib/python3.10/dist-packages (from tensorflow==2.13.1) (0.37.1)\n",
            "Requirement already satisfied: wheel<1.0,>=0.23.0 in /usr/local/lib/python3.10/dist-packages (from astunparse>=1.6.0->tensorflow==2.13.1) (0.43.0)\n",
            "Requirement already satisfied: google-auth<3,>=1.6.3 in /usr/local/lib/python3.10/dist-packages (from tensorboard<2.14,>=2.13->tensorflow==2.13.1) (2.27.0)\n",
            "Collecting google-auth-oauthlib<1.1,>=0.5 (from tensorboard<2.14,>=2.13->tensorflow==2.13.1)\n",
            "  Downloading google_auth_oauthlib-1.0.0-py2.py3-none-any.whl.metadata (2.7 kB)\n",
            "Requirement already satisfied: markdown>=2.6.8 in /usr/local/lib/python3.10/dist-packages (from tensorboard<2.14,>=2.13->tensorflow==2.13.1) (3.6)\n",
            "Requirement already satisfied: requests<3,>=2.21.0 in /usr/local/lib/python3.10/dist-packages (from tensorboard<2.14,>=2.13->tensorflow==2.13.1) (2.31.0)\n",
            "Requirement already satisfied: tensorboard-data-server<0.8.0,>=0.7.0 in /usr/local/lib/python3.10/dist-packages (from tensorboard<2.14,>=2.13->tensorflow==2.13.1) (0.7.2)\n",
            "Requirement already satisfied: werkzeug>=1.0.1 in /usr/local/lib/python3.10/dist-packages (from tensorboard<2.14,>=2.13->tensorflow==2.13.1) (3.0.3)\n",
            "Requirement already satisfied: cachetools<6.0,>=2.0.0 in /usr/local/lib/python3.10/dist-packages (from google-auth<3,>=1.6.3->tensorboard<2.14,>=2.13->tensorflow==2.13.1) (5.4.0)\n",
            "Requirement already satisfied: pyasn1-modules>=0.2.1 in /usr/local/lib/python3.10/dist-packages (from google-auth<3,>=1.6.3->tensorboard<2.14,>=2.13->tensorflow==2.13.1) (0.4.0)\n",
            "Requirement already satisfied: rsa<5,>=3.1.4 in /usr/local/lib/python3.10/dist-packages (from google-auth<3,>=1.6.3->tensorboard<2.14,>=2.13->tensorflow==2.13.1) (4.9)\n",
            "Requirement already satisfied: requests-oauthlib>=0.7.0 in /usr/local/lib/python3.10/dist-packages (from google-auth-oauthlib<1.1,>=0.5->tensorboard<2.14,>=2.13->tensorflow==2.13.1) (1.3.1)\n",
            "Requirement already satisfied: charset-normalizer<4,>=2 in /usr/local/lib/python3.10/dist-packages (from requests<3,>=2.21.0->tensorboard<2.14,>=2.13->tensorflow==2.13.1) (3.3.2)\n",
            "Requirement already satisfied: idna<4,>=2.5 in /usr/local/lib/python3.10/dist-packages (from requests<3,>=2.21.0->tensorboard<2.14,>=2.13->tensorflow==2.13.1) (3.7)\n",
            "Requirement already satisfied: urllib3<3,>=1.21.1 in /usr/local/lib/python3.10/dist-packages (from requests<3,>=2.21.0->tensorboard<2.14,>=2.13->tensorflow==2.13.1) (2.0.7)\n",
            "Requirement already satisfied: certifi>=2017.4.17 in /usr/local/lib/python3.10/dist-packages (from requests<3,>=2.21.0->tensorboard<2.14,>=2.13->tensorflow==2.13.1) (2024.7.4)\n",
            "Requirement already satisfied: MarkupSafe>=2.1.1 in /usr/local/lib/python3.10/dist-packages (from werkzeug>=1.0.1->tensorboard<2.14,>=2.13->tensorflow==2.13.1) (2.1.5)\n",
            "Requirement already satisfied: pyasn1<0.7.0,>=0.4.6 in /usr/local/lib/python3.10/dist-packages (from pyasn1-modules>=0.2.1->google-auth<3,>=1.6.3->tensorboard<2.14,>=2.13->tensorflow==2.13.1) (0.6.0)\n",
            "Requirement already satisfied: oauthlib>=3.0.0 in /usr/local/lib/python3.10/dist-packages (from requests-oauthlib>=0.7.0->google-auth-oauthlib<1.1,>=0.5->tensorboard<2.14,>=2.13->tensorflow==2.13.1) (3.2.2)\n",
            "Downloading tensorflow-2.13.1-cp310-cp310-manylinux_2_17_x86_64.manylinux2014_x86_64.whl (479.7 MB)\n",
            "\u001b[2K   \u001b[90m━━━━━━━━━━━━━━━━━━━━━━━━━━━━━━━━━━━━━━━━\u001b[0m \u001b[32m479.7/479.7 MB\u001b[0m \u001b[31m1.3 MB/s\u001b[0m eta \u001b[36m0:00:00\u001b[0m\n",
            "\u001b[?25hDownloading gast-0.4.0-py3-none-any.whl (9.8 kB)\n",
            "Downloading keras-2.13.1-py3-none-any.whl (1.7 MB)\n",
            "\u001b[2K   \u001b[90m━━━━━━━━━━━━━━━━━━━━━━━━━━━━━━━━━━━━━━━━\u001b[0m \u001b[32m1.7/1.7 MB\u001b[0m \u001b[31m67.6 MB/s\u001b[0m eta \u001b[36m0:00:00\u001b[0m\n",
            "\u001b[?25hDownloading numpy-1.24.3-cp310-cp310-manylinux_2_17_x86_64.manylinux2014_x86_64.whl (17.3 MB)\n",
            "\u001b[2K   \u001b[90m━━━━━━━━━━━━━━━━━━━━━━━━━━━━━━━━━━━━━━━━\u001b[0m \u001b[32m17.3/17.3 MB\u001b[0m \u001b[31m83.0 MB/s\u001b[0m eta \u001b[36m0:00:00\u001b[0m\n",
            "\u001b[?25hDownloading tensorboard-2.13.0-py3-none-any.whl (5.6 MB)\n",
            "\u001b[2K   \u001b[90m━━━━━━━━━━━━━━━━━━━━━━━━━━━━━━━━━━━━━━━━\u001b[0m \u001b[32m5.6/5.6 MB\u001b[0m \u001b[31m95.9 MB/s\u001b[0m eta \u001b[36m0:00:00\u001b[0m\n",
            "\u001b[?25hDownloading tensorflow_estimator-2.13.0-py2.py3-none-any.whl (440 kB)\n",
            "\u001b[2K   \u001b[90m━━━━━━━━━━━━━━━━━━━━━━━━━━━━━━━━━━━━━━━━\u001b[0m \u001b[32m440.8/440.8 kB\u001b[0m \u001b[31m29.3 MB/s\u001b[0m eta \u001b[36m0:00:00\u001b[0m\n",
            "\u001b[?25hDownloading typing_extensions-4.5.0-py3-none-any.whl (27 kB)\n",
            "Downloading google_auth_oauthlib-1.0.0-py2.py3-none-any.whl (18 kB)\n",
            "Installing collected packages: typing-extensions, tensorflow-estimator, numpy, keras, gast, google-auth-oauthlib, tensorboard, tensorflow\n",
            "  Attempting uninstall: typing-extensions\n",
            "    Found existing installation: typing_extensions 4.12.2\n",
            "    Uninstalling typing_extensions-4.12.2:\n",
            "      Successfully uninstalled typing_extensions-4.12.2\n",
            "  Attempting uninstall: tensorflow-estimator\n",
            "    Found existing installation: tensorflow-estimator 2.15.0\n",
            "    Uninstalling tensorflow-estimator-2.15.0:\n",
            "      Successfully uninstalled tensorflow-estimator-2.15.0\n",
            "  Attempting uninstall: numpy\n",
            "    Found existing installation: numpy 1.26.4\n",
            "    Uninstalling numpy-1.26.4:\n",
            "      Successfully uninstalled numpy-1.26.4\n",
            "  Attempting uninstall: keras\n",
            "    Found existing installation: keras 2.15.0\n",
            "    Uninstalling keras-2.15.0:\n",
            "      Successfully uninstalled keras-2.15.0\n",
            "  Attempting uninstall: gast\n",
            "    Found existing installation: gast 0.6.0\n",
            "    Uninstalling gast-0.6.0:\n",
            "      Successfully uninstalled gast-0.6.0\n",
            "  Attempting uninstall: google-auth-oauthlib\n",
            "    Found existing installation: google-auth-oauthlib 1.2.1\n",
            "    Uninstalling google-auth-oauthlib-1.2.1:\n",
            "      Successfully uninstalled google-auth-oauthlib-1.2.1\n",
            "  Attempting uninstall: tensorboard\n",
            "    Found existing installation: tensorboard 2.15.2\n",
            "    Uninstalling tensorboard-2.15.2:\n",
            "      Successfully uninstalled tensorboard-2.15.2\n",
            "  Attempting uninstall: tensorflow\n",
            "    Found existing installation: tensorflow 2.15.0\n",
            "    Uninstalling tensorflow-2.15.0:\n",
            "      Successfully uninstalled tensorflow-2.15.0\n",
            "\u001b[31mERROR: pip's dependency resolver does not currently take into account all the packages that are installed. This behaviour is the source of the following dependency conflicts.\n",
            "torch 2.3.1+cu121 requires nvidia-cublas-cu12==12.1.3.1; platform_system == \"Linux\" and platform_machine == \"x86_64\", which is not installed.\n",
            "torch 2.3.1+cu121 requires nvidia-cuda-cupti-cu12==12.1.105; platform_system == \"Linux\" and platform_machine == \"x86_64\", which is not installed.\n",
            "torch 2.3.1+cu121 requires nvidia-cuda-nvrtc-cu12==12.1.105; platform_system == \"Linux\" and platform_machine == \"x86_64\", which is not installed.\n",
            "torch 2.3.1+cu121 requires nvidia-cuda-runtime-cu12==12.1.105; platform_system == \"Linux\" and platform_machine == \"x86_64\", which is not installed.\n",
            "torch 2.3.1+cu121 requires nvidia-cudnn-cu12==8.9.2.26; platform_system == \"Linux\" and platform_machine == \"x86_64\", which is not installed.\n",
            "torch 2.3.1+cu121 requires nvidia-cufft-cu12==11.0.2.54; platform_system == \"Linux\" and platform_machine == \"x86_64\", which is not installed.\n",
            "torch 2.3.1+cu121 requires nvidia-curand-cu12==10.3.2.106; platform_system == \"Linux\" and platform_machine == \"x86_64\", which is not installed.\n",
            "torch 2.3.1+cu121 requires nvidia-cusolver-cu12==11.4.5.107; platform_system == \"Linux\" and platform_machine == \"x86_64\", which is not installed.\n",
            "torch 2.3.1+cu121 requires nvidia-cusparse-cu12==12.1.0.106; platform_system == \"Linux\" and platform_machine == \"x86_64\", which is not installed.\n",
            "torch 2.3.1+cu121 requires nvidia-nccl-cu12==2.20.5; platform_system == \"Linux\" and platform_machine == \"x86_64\", which is not installed.\n",
            "torch 2.3.1+cu121 requires nvidia-nvtx-cu12==12.1.105; platform_system == \"Linux\" and platform_machine == \"x86_64\", which is not installed.\n",
            "xgboost 2.1.0 requires nvidia-nccl-cu12; platform_system == \"Linux\" and platform_machine != \"aarch64\", which is not installed.\n",
            "sqlalchemy 2.0.31 requires typing-extensions>=4.6.0, but you have typing-extensions 4.5.0 which is incompatible.\n",
            "albucore 0.0.12 requires numpy<2,>=1.24.4, but you have numpy 1.24.3 which is incompatible.\n",
            "albucore 0.0.12 requires typing-extensions>=4.9.0, but you have typing-extensions 4.5.0 which is incompatible.\n",
            "albumentations 1.4.11 requires numpy>=1.24.4, but you have numpy 1.24.3 which is incompatible.\n",
            "albumentations 1.4.11 requires typing-extensions>=4.9.0, but you have typing-extensions 4.5.0 which is incompatible.\n",
            "pandas-stubs 2.1.4.231227 requires numpy>=1.26.0; python_version < \"3.13\", but you have numpy 1.24.3 which is incompatible.\n",
            "pydantic 2.8.2 requires typing-extensions>=4.6.1; python_version < \"3.13\", but you have typing-extensions 4.5.0 which is incompatible.\n",
            "pydantic-core 2.20.1 requires typing-extensions!=4.7.0,>=4.6.0, but you have typing-extensions 4.5.0 which is incompatible.\n",
            "tf-keras 2.15.1 requires tensorflow<2.16,>=2.15, but you have tensorflow 2.13.1 which is incompatible.\n",
            "torch 2.3.1+cu121 requires typing-extensions>=4.8.0, but you have typing-extensions 4.5.0 which is incompatible.\n",
            "typeguard 4.3.0 requires typing-extensions>=4.10.0, but you have typing-extensions 4.5.0 which is incompatible.\u001b[0m\u001b[31m\n",
            "\u001b[0mSuccessfully installed gast-0.4.0 google-auth-oauthlib-1.0.0 keras-2.13.1 numpy-1.24.3 tensorboard-2.13.0 tensorflow-2.13.1 tensorflow-estimator-2.13.0 typing-extensions-4.5.0\n"
          ]
        },
        {
          "output_type": "display_data",
          "data": {
            "application/vnd.colab-display-data+json": {
              "pip_warning": {
                "packages": [
                  "gast",
                  "keras",
                  "numpy",
                  "tensorboard",
                  "tensorflow"
                ]
              },
              "id": "c729cabef2c84e74824a9b3418ee9b9e"
            }
          },
          "metadata": {}
        }
      ],
      "source": [
        "# Tensorflow\n",
        "import tensorflow as tf\n",
        "\n",
        "!pip install tensorflow==2.13.1"
      ]
    },
    {
      "cell_type": "code",
      "source": [
        "import tensorflow as tf\n",
        "print(tf.__version__)"
      ],
      "metadata": {
        "colab": {
          "base_uri": "https://localhost:8080/"
        },
        "id": "ZdkXQnltO72O",
        "outputId": "da0734a1-41cb-463e-81c2-63618696a7a0"
      },
      "execution_count": null,
      "outputs": [
        {
          "output_type": "stream",
          "name": "stdout",
          "text": [
            "2.13.1\n"
          ]
        }
      ]
    },
    {
      "cell_type": "code",
      "execution_count": null,
      "metadata": {
        "id": "8BZ0m9oOgoqy"
      },
      "outputs": [],
      "source": [
        "# Tensorflow Sequential model\n",
        "from tensorflow.keras.models import Sequential, Model\n",
        "from tensorflow.keras.layers import Dense, Input, Concatenate\n",
        "from tensorflow.keras.layers import Flatten, Dropout, BatchNormalization\n",
        "from tensorflow.keras.layers import Conv2D, MaxPooling2D, Conv2DTranspose\n",
        "from tensorflow.keras.layers import Rescaling\n",
        "from tensorflow.keras.layers import SimpleRNN, LSTM, Bidirectional, GRU\n",
        "\n",
        "from tensorflow.keras import optimizers, regularizers\n",
        "\n",
        "from tensorflow.keras.callbacks import EarlyStopping, ModelCheckpoint, TensorBoard\n",
        "\n",
        "from tensorflow.keras.utils import plot_model"
      ]
    },
    {
      "cell_type": "code",
      "execution_count": null,
      "metadata": {
        "id": "Y06XKfwWVa-E"
      },
      "outputs": [],
      "source": [
        "# 데이터 분리를 위한 함수\n",
        "from sklearn.model_selection import train_test_split"
      ]
    },
    {
      "cell_type": "code",
      "execution_count": null,
      "metadata": {
        "id": "NeO7RXhad5EE"
      },
      "outputs": [],
      "source": [
        "def disp_training( history ):\n",
        "    accuracy = history.history[\"accuracy\"]\n",
        "    val_accuracy = history.history[\"val_accuracy\"]\n",
        "    loss = history.history[\"loss\"]\n",
        "    val_loss = history.history[\"val_loss\"]\n",
        "    epochs = range( 1, len( accuracy ) + 1 )\n",
        "\n",
        "    plt.title( '훈련 및 검증 정확도' )\n",
        "    plt.plot( epochs, history.history[ 'accuracy' ], label = 'accuracy' )\n",
        "    plt.plot( epochs, history.history[ 'val_accuracy' ], label = 'val_accuracy' )\n",
        "    plt.grid()\n",
        "    plt.legend()\n",
        "    plt.xlabel( 'Epochs' )\n",
        "\n",
        "    plt.figure()\n",
        "    plt.title( '훈련 및 검증 오차' )\n",
        "\n",
        "    plt.plot( epochs, history.history[ 'loss' ], label = 'loss' )\n",
        "    plt.plot( epochs, history.history[ 'val_loss' ], label = 'val_loss' )\n",
        "    plt.grid()\n",
        "    plt.legend()\n",
        "    plt.xlabel( 'Epochs' )\n",
        "\n",
        "    plt.show()"
      ]
    },
    {
      "cell_type": "code",
      "execution_count": null,
      "metadata": {
        "id": "vcabEL0r38QN"
      },
      "outputs": [],
      "source": [
        "def disp_loss( history ):\n",
        "    loss = history.history[\"loss\"]\n",
        "    val_loss = history.history[\"val_loss\"]\n",
        "    epochs = range( 1, len( loss ) + 1 )\n",
        "\n",
        "    plt.title( '훈련 및 검증 오차' )\n",
        "\n",
        "    plt.plot( epochs, history.history[ 'loss' ], label = 'loss' )\n",
        "    plt.plot( epochs, history.history[ 'val_loss' ], label = 'val_loss' )\n",
        "    plt.grid()\n",
        "    plt.legend()\n",
        "    plt.xlabel( 'Epochs' )\n",
        "\n",
        "    plt.show()"
      ]
    },
    {
      "cell_type": "code",
      "source": [
        "import glob\n",
        "\n",
        "# 파일 경로 리스트\n",
        "train_data_list = sorted(glob.glob('/content/train_input/*.csv'))\n",
        "train_target_list = sorted(glob.glob('/content/train_target/*.csv'))\n",
        "test_data_list = sorted(glob.glob('/content/test_input/*.csv'))\n",
        "submission_df = sorted(glob.glob('/content/test_target/*.csv'))\n",
        "\n",
        "# 데이터 로드 함수'\n",
        "def load_data(file_paths):\n",
        "    dataframes = [pd.read_csv(file_path) for file_path in file_paths]\n",
        "    return dataframes\n",
        "\n",
        "# 데이터 로드\n",
        "input_dataframes = load_data(train_data_list)\n",
        "target_dataframes = load_data(train_target_list)\n",
        "test_dataframes = load_data(test_data_list)\n",
        "submission_df = load_data(submission_df)\n",
        "\n",
        "# 첫 번째 데이터프레임 확인\n",
        "print(input_dataframes[0].head())\n",
        "print(target_dataframes[0].head())\n"
      ],
      "metadata": {
        "colab": {
          "base_uri": "https://localhost:8080/"
        },
        "id": "YX9aHD157fAl",
        "outputId": "6b8f8fa5-b53b-4287-a39b-b3be17a652ec"
      },
      "execution_count": null,
      "outputs": [
        {
          "output_type": "stream",
          "name": "stdout",
          "text": [
            "   DAT obs_time  내부온도관측치  내부습도관측치   co2관측치  ec관측치  \\\n",
            "0    0    00:00       25.300000       81.835000  536.016667  1.407439   \n",
            "1    0    01:00       25.680357       81.264286  528.696429  1.409003   \n",
            "2    0    02:00       25.273333       81.471666  532.833333  1.406913   \n",
            "3    0    03:00       25.355000       81.398334  545.566667  1.406689   \n",
            "4    0    04:00       25.391667       81.483333  558.583333  1.411070   \n",
            "\n",
            "   시간당분무량  일간누적분무량  시간당백색광량  일간누적백색광량  \\\n",
            "0           0.0             0.0             0.0               0.0   \n",
            "1         126.0           126.0             0.0               0.0   \n",
            "2           0.0           126.0             0.0               0.0   \n",
            "3         126.0           252.0             0.0               0.0   \n",
            "4           0.0           252.0             0.0               0.0   \n",
            "\n",
            "   시간당적색광량  일간누적적색광량  시간당청색광량  일간누적청색광량  \\\n",
            "0             0.0               0.0               0                 0   \n",
            "1             0.0               0.0               0                 0   \n",
            "2             0.0               0.0               0                 0   \n",
            "3             0.0               0.0               0                 0   \n",
            "4             0.0               0.0               0                 0   \n",
            "\n",
            "   시간당총광량  일간누적총광량  \n",
            "0           0.0             0.0  \n",
            "1           0.0             0.0  \n",
            "2           0.0             0.0  \n",
            "3           0.0             0.0  \n",
            "4           0.0             0.0  \n",
            "   DAT  predicted_weight_g  Unnamed: 2\n",
            "0    1            0.167719    0.167719\n",
            "1    2            0.181787    0.014068\n",
            "2    3            0.265921    0.084134\n",
            "3    4            0.423650    0.157729\n",
            "4    5            0.475272    0.051622\n"
          ]
        }
      ]
    },
    {
      "cell_type": "code",
      "source": [
        "from re import sub\n",
        "def preprocess_data(input_df, target_df):\n",
        "    # 필요 없는 칼럼 제거\n",
        "    input_df = input_df.drop(columns=['obs_time'])\n",
        "\n",
        "    # 열 타입 변환\n",
        "    for col in input_df.columns:\n",
        "        input_df[col] = pd.to_numeric(input_df[col], errors='coerce')\n",
        "\n",
        "    # 시간 데이터를 일 단위로 변환\n",
        "    input_df['day'] = input_df['DAT']\n",
        "\n",
        "    # 일 단위로 평균내기\n",
        "    daily_avg = input_df.groupby('day').mean().reset_index()\n",
        "\n",
        "    # 필요 없는 칼럼 제거\n",
        "    X = daily_avg.drop(columns=['DAT','day'])  # 환경 데이터\n",
        "    y = target_df['predicted_weight_g']  # 목표 데이터\n",
        "\n",
        "    # 데이터 정규화 (예시: Min-Max Scaling)\n",
        "    X = (X - X.min()) / (X.max() - X.min())\n",
        "\n",
        "    return X, y\n",
        "\n",
        "# 전처리된 데이터 저장\n",
        "preprocessed_data = [preprocess_data(input_df, target_df) for input_df, target_df in zip(input_dataframes, target_dataframes)]\n",
        "preproecssed_data_test = [preprocess_data(input_df,target_df) for input_df, target_df in zip(test_dataframes, submission_df)]"
      ],
      "metadata": {
        "id": "VFIVovXU8a0k"
      },
      "execution_count": null,
      "outputs": []
    },
    {
      "cell_type": "code",
      "source": [
        "# 전처리된 데이터 확인\n",
        "print(\"전처리된 첫 번째 케이스의 X 데이터:\")\n",
        "print(preprocessed_data[0][0].head())\n",
        "\n",
        "print(\"전처리된 첫 번째 케이스의 y 데이터:\")\n",
        "print(preprocessed_data[0][1].head())\n"
      ],
      "metadata": {
        "colab": {
          "base_uri": "https://localhost:8080/"
        },
        "id": "lQqjKLIdg_2p",
        "outputId": "8719a915-0489-4be1-e8bf-9cf898398b01"
      },
      "execution_count": null,
      "outputs": [
        {
          "output_type": "stream",
          "name": "stdout",
          "text": [
            "전처리된 첫 번째 케이스의 X 데이터:\n",
            "   내부온도관측치  내부습도관측치  co2관측치  ec관측치  시간당분무량  \\\n",
            "0        0.466759        0.112226   0.059016  0.862491      0.457619   \n",
            "1        0.611131        0.114446   0.025220  0.856806      0.521190   \n",
            "2        0.367447        0.036154   0.071617  0.861952      0.894048   \n",
            "3        0.220508        0.000000   0.743750  0.867245      0.521190   \n",
            "4        0.323577        0.123585   0.072529  0.868792      0.372858   \n",
            "\n",
            "   일간누적분무량  시간당백색광량  일간누적백색광량  시간당적색광량  \\\n",
            "0        0.553568        0.528217          0.639587        0.863636   \n",
            "1        0.813523        1.000000          1.000000        1.000000   \n",
            "2        0.902282        0.562077          0.598646        0.545455   \n",
            "3        0.813523        1.000000          1.000000        1.000000   \n",
            "4        0.204338        0.638826          0.632818        0.636364   \n",
            "\n",
            "   일간누적적색광량  시간당청색광량  일간누적청색광량  시간당총광량  \\\n",
            "0          0.959732             NaN               NaN      0.545136   \n",
            "1          1.000000             NaN               NaN      1.000000   \n",
            "2          0.557047             NaN               NaN      0.561238   \n",
            "3          1.000000             NaN               NaN      1.000000   \n",
            "4          0.610738             NaN               NaN      0.638702   \n",
            "\n",
            "   일간누적총광량  \n",
            "0        0.655063  \n",
            "1        1.000000  \n",
            "2        0.596415  \n",
            "3        1.000000  \n",
            "4        0.631557  \n",
            "전처리된 첫 번째 케이스의 y 데이터:\n",
            "0    0.167719\n",
            "1    0.181787\n",
            "2    0.265921\n",
            "3    0.423650\n",
            "4    0.475272\n",
            "Name: predicted_weight_g, dtype: float64\n"
          ]
        }
      ]
    },
    {
      "cell_type": "code",
      "source": [
        "# 튜플 풀어서 리스트로 변환\n",
        "X_data = [x for x, y in preprocessed_data]\n",
        "y_data = [y for x, y in preprocessed_data]\n",
        "X_submmit = [x for x, y in preproecssed_data_test]\n",
        "y_submmit = [y for x, y in preproecssed_data_test]"
      ],
      "metadata": {
        "id": "GHydKfh87oot"
      },
      "execution_count": null,
      "outputs": []
    },
    {
      "cell_type": "code",
      "source": [
        "# 모든 케이스의 데이터를 하나의 데이터셋으로 결합\n",
        "X_combined = pd.concat(X_data, ignore_index=True)\n",
        "X_combined.fillna(0, inplace=True)\n",
        "y_combined = pd.concat(y_data, ignore_index=True)\n",
        "input_dataframes_obs = pd.concat(input_dataframes, ignore_index=True)\n",
        "\n",
        "X_combined_test = pd.concat(X_submmit, ignore_index=True)\n",
        "X_combined_test.fillna(0, inplace=True)\n",
        "y_combined_test = pd.concat(y_submmit, ignore_index=True)\n",
        "input_dataframes_obs_test = pd.concat(test_dataframes, ignore_index=True)"
      ],
      "metadata": {
        "id": "pqVWGBMw94fm"
      },
      "execution_count": null,
      "outputs": []
    },
    {
      "cell_type": "code",
      "source": [
        "input_dataframes_obs = input_dataframes_obs[(input_dataframes_obs['obs_time'] == '23:00') | (input_dataframes_obs['obs_time'] == '23:00:00.') | (input_dataframes_obs['obs_time'] == '22:59:59.')]\n",
        "input_dataframes_obs_test = input_dataframes_obs_test[(input_dataframes_obs_test['obs_time'] == '23:00') | (input_dataframes_obs_test['obs_time'] == '23:00:00.') | (input_dataframes_obs_test['obs_time'] == '22:59:59.')]"
      ],
      "metadata": {
        "id": "hp6cHAABXPEX"
      },
      "execution_count": null,
      "outputs": []
    },
    {
      "cell_type": "code",
      "source": [
        "X_combined.reset_index(drop=True, inplace=True)\n",
        "input_dataframes_obs.reset_index(drop=True, inplace=True)\n",
        "\n",
        "X_combined_test.reset_index(drop=True, inplace=True)\n",
        "input_dataframes_obs_test.reset_index(drop=True, inplace=True)"
      ],
      "metadata": {
        "id": "l6VfeA6_aDkZ"
      },
      "execution_count": null,
      "outputs": []
    },
    {
      "cell_type": "code",
      "source": [
        "X_combined = pd.concat([input_dataframes_obs['DAT'],X_combined],axis=1)\n",
        "X_combined_test = pd.concat([input_dataframes_obs_test['DAT'],X_combined_test],axis=1)"
      ],
      "metadata": {
        "id": "hT3jo5NMGjW4"
      },
      "execution_count": null,
      "outputs": []
    },
    {
      "cell_type": "code",
      "source": [
        "X_combined"
      ],
      "metadata": {
        "colab": {
          "base_uri": "https://localhost:8080/",
          "height": 461
        },
        "id": "BSyjx7UoYlT7",
        "outputId": "c4ffc816-9025-47ea-a89e-ae88390787eb"
      },
      "execution_count": null,
      "outputs": [
        {
          "output_type": "execute_result",
          "data": {
            "text/plain": [
              "     DAT  내부온도관측치  내부습도관측치  co2관측치  ec관측치  시간당분무량  \\\n",
              "0      0        0.466759        0.112226   0.059016  0.862491      0.457619   \n",
              "1      1        0.611131        0.114446   0.025220  0.856806      0.521190   \n",
              "2      2        0.367447        0.036154   0.071617  0.861952      0.894048   \n",
              "3      3        0.220508        0.000000   0.743750  0.867245      0.521190   \n",
              "4      4        0.323577        0.123585   0.072529  0.868792      0.372858   \n",
              "..   ...             ...             ...        ...       ...           ...   \n",
              "779   23        0.390996        0.712151   0.318592  0.832426      0.688024   \n",
              "780   24        0.044833        0.946153   0.278304  0.990430      0.018304   \n",
              "781   25        0.000000        1.000000   0.327414  1.000000      0.010219   \n",
              "782   26        0.073335        0.979149   0.139943  0.904797      0.000000   \n",
              "783   27        0.388445        0.947711   0.000000  0.846937      0.001329   \n",
              "\n",
              "     일간누적분무량  시간당백색광량  일간누적백색광량  시간당적색광량  \\\n",
              "0          0.553568        0.528217          0.639587        0.863636   \n",
              "1          0.813523        1.000000          1.000000        1.000000   \n",
              "2          0.902282        0.562077          0.598646        0.545455   \n",
              "3          0.813523        1.000000          1.000000        1.000000   \n",
              "4          0.204338        0.638826          0.632818        0.636364   \n",
              "..              ...             ...               ...             ...   \n",
              "779        0.926442        0.080674          0.046570        0.575481   \n",
              "780        0.020618        0.536779          0.536690        1.000000   \n",
              "781        0.005196        0.536711          0.535741        0.999111   \n",
              "782        0.003695        0.536825          0.535884        0.996741   \n",
              "783        0.000000        0.537484          0.536617        0.996148   \n",
              "\n",
              "     일간누적적색광량  시간당청색광량  일간누적청색광량  시간당총광량  \\\n",
              "0            0.959732        0.000000          0.000000      0.545136   \n",
              "1            1.000000        0.000000          0.000000      1.000000   \n",
              "2            0.557047        0.000000          0.000000      0.561238   \n",
              "3            1.000000        0.000000          0.000000      1.000000   \n",
              "4            0.610738        0.000000          0.000000      0.638702   \n",
              "..                ...             ...               ...           ...   \n",
              "779          0.543448        0.574944          0.543368      0.112173   \n",
              "780          1.000000        1.000000          1.000000      0.747554   \n",
              "781          0.998036        0.999254          0.998167      0.747245   \n",
              "782          0.995333        0.997166          0.995875      0.746748   \n",
              "783          0.994417        0.996122          0.994793      0.747296   \n",
              "\n",
              "     일간누적총광량  \n",
              "0          0.655063  \n",
              "1          1.000000  \n",
              "2          0.596415  \n",
              "3          1.000000  \n",
              "4          0.631557  \n",
              "..              ...  \n",
              "779        0.064758  \n",
              "780        0.747357  \n",
              "781        0.745750  \n",
              "782        0.745208  \n",
              "783        0.745775  \n",
              "\n",
              "[784 rows x 15 columns]"
            ],
            "text/html": [
              "\n",
              "  <div id=\"df-6fe83726-59b0-47c6-b361-e5e33727c131\" class=\"colab-df-container\">\n",
              "    <div>\n",
              "<style scoped>\n",
              "    .dataframe tbody tr th:only-of-type {\n",
              "        vertical-align: middle;\n",
              "    }\n",
              "\n",
              "    .dataframe tbody tr th {\n",
              "        vertical-align: top;\n",
              "    }\n",
              "\n",
              "    .dataframe thead th {\n",
              "        text-align: right;\n",
              "    }\n",
              "</style>\n",
              "<table border=\"1\" class=\"dataframe\">\n",
              "  <thead>\n",
              "    <tr style=\"text-align: right;\">\n",
              "      <th></th>\n",
              "      <th>DAT</th>\n",
              "      <th>내부온도관측치</th>\n",
              "      <th>내부습도관측치</th>\n",
              "      <th>co2관측치</th>\n",
              "      <th>ec관측치</th>\n",
              "      <th>시간당분무량</th>\n",
              "      <th>일간누적분무량</th>\n",
              "      <th>시간당백색광량</th>\n",
              "      <th>일간누적백색광량</th>\n",
              "      <th>시간당적색광량</th>\n",
              "      <th>일간누적적색광량</th>\n",
              "      <th>시간당청색광량</th>\n",
              "      <th>일간누적청색광량</th>\n",
              "      <th>시간당총광량</th>\n",
              "      <th>일간누적총광량</th>\n",
              "    </tr>\n",
              "  </thead>\n",
              "  <tbody>\n",
              "    <tr>\n",
              "      <th>0</th>\n",
              "      <td>0</td>\n",
              "      <td>0.466759</td>\n",
              "      <td>0.112226</td>\n",
              "      <td>0.059016</td>\n",
              "      <td>0.862491</td>\n",
              "      <td>0.457619</td>\n",
              "      <td>0.553568</td>\n",
              "      <td>0.528217</td>\n",
              "      <td>0.639587</td>\n",
              "      <td>0.863636</td>\n",
              "      <td>0.959732</td>\n",
              "      <td>0.000000</td>\n",
              "      <td>0.000000</td>\n",
              "      <td>0.545136</td>\n",
              "      <td>0.655063</td>\n",
              "    </tr>\n",
              "    <tr>\n",
              "      <th>1</th>\n",
              "      <td>1</td>\n",
              "      <td>0.611131</td>\n",
              "      <td>0.114446</td>\n",
              "      <td>0.025220</td>\n",
              "      <td>0.856806</td>\n",
              "      <td>0.521190</td>\n",
              "      <td>0.813523</td>\n",
              "      <td>1.000000</td>\n",
              "      <td>1.000000</td>\n",
              "      <td>1.000000</td>\n",
              "      <td>1.000000</td>\n",
              "      <td>0.000000</td>\n",
              "      <td>0.000000</td>\n",
              "      <td>1.000000</td>\n",
              "      <td>1.000000</td>\n",
              "    </tr>\n",
              "    <tr>\n",
              "      <th>2</th>\n",
              "      <td>2</td>\n",
              "      <td>0.367447</td>\n",
              "      <td>0.036154</td>\n",
              "      <td>0.071617</td>\n",
              "      <td>0.861952</td>\n",
              "      <td>0.894048</td>\n",
              "      <td>0.902282</td>\n",
              "      <td>0.562077</td>\n",
              "      <td>0.598646</td>\n",
              "      <td>0.545455</td>\n",
              "      <td>0.557047</td>\n",
              "      <td>0.000000</td>\n",
              "      <td>0.000000</td>\n",
              "      <td>0.561238</td>\n",
              "      <td>0.596415</td>\n",
              "    </tr>\n",
              "    <tr>\n",
              "      <th>3</th>\n",
              "      <td>3</td>\n",
              "      <td>0.220508</td>\n",
              "      <td>0.000000</td>\n",
              "      <td>0.743750</td>\n",
              "      <td>0.867245</td>\n",
              "      <td>0.521190</td>\n",
              "      <td>0.813523</td>\n",
              "      <td>1.000000</td>\n",
              "      <td>1.000000</td>\n",
              "      <td>1.000000</td>\n",
              "      <td>1.000000</td>\n",
              "      <td>0.000000</td>\n",
              "      <td>0.000000</td>\n",
              "      <td>1.000000</td>\n",
              "      <td>1.000000</td>\n",
              "    </tr>\n",
              "    <tr>\n",
              "      <th>4</th>\n",
              "      <td>4</td>\n",
              "      <td>0.323577</td>\n",
              "      <td>0.123585</td>\n",
              "      <td>0.072529</td>\n",
              "      <td>0.868792</td>\n",
              "      <td>0.372858</td>\n",
              "      <td>0.204338</td>\n",
              "      <td>0.638826</td>\n",
              "      <td>0.632818</td>\n",
              "      <td>0.636364</td>\n",
              "      <td>0.610738</td>\n",
              "      <td>0.000000</td>\n",
              "      <td>0.000000</td>\n",
              "      <td>0.638702</td>\n",
              "      <td>0.631557</td>\n",
              "    </tr>\n",
              "    <tr>\n",
              "      <th>...</th>\n",
              "      <td>...</td>\n",
              "      <td>...</td>\n",
              "      <td>...</td>\n",
              "      <td>...</td>\n",
              "      <td>...</td>\n",
              "      <td>...</td>\n",
              "      <td>...</td>\n",
              "      <td>...</td>\n",
              "      <td>...</td>\n",
              "      <td>...</td>\n",
              "      <td>...</td>\n",
              "      <td>...</td>\n",
              "      <td>...</td>\n",
              "      <td>...</td>\n",
              "      <td>...</td>\n",
              "    </tr>\n",
              "    <tr>\n",
              "      <th>779</th>\n",
              "      <td>23</td>\n",
              "      <td>0.390996</td>\n",
              "      <td>0.712151</td>\n",
              "      <td>0.318592</td>\n",
              "      <td>0.832426</td>\n",
              "      <td>0.688024</td>\n",
              "      <td>0.926442</td>\n",
              "      <td>0.080674</td>\n",
              "      <td>0.046570</td>\n",
              "      <td>0.575481</td>\n",
              "      <td>0.543448</td>\n",
              "      <td>0.574944</td>\n",
              "      <td>0.543368</td>\n",
              "      <td>0.112173</td>\n",
              "      <td>0.064758</td>\n",
              "    </tr>\n",
              "    <tr>\n",
              "      <th>780</th>\n",
              "      <td>24</td>\n",
              "      <td>0.044833</td>\n",
              "      <td>0.946153</td>\n",
              "      <td>0.278304</td>\n",
              "      <td>0.990430</td>\n",
              "      <td>0.018304</td>\n",
              "      <td>0.020618</td>\n",
              "      <td>0.536779</td>\n",
              "      <td>0.536690</td>\n",
              "      <td>1.000000</td>\n",
              "      <td>1.000000</td>\n",
              "      <td>1.000000</td>\n",
              "      <td>1.000000</td>\n",
              "      <td>0.747554</td>\n",
              "      <td>0.747357</td>\n",
              "    </tr>\n",
              "    <tr>\n",
              "      <th>781</th>\n",
              "      <td>25</td>\n",
              "      <td>0.000000</td>\n",
              "      <td>1.000000</td>\n",
              "      <td>0.327414</td>\n",
              "      <td>1.000000</td>\n",
              "      <td>0.010219</td>\n",
              "      <td>0.005196</td>\n",
              "      <td>0.536711</td>\n",
              "      <td>0.535741</td>\n",
              "      <td>0.999111</td>\n",
              "      <td>0.998036</td>\n",
              "      <td>0.999254</td>\n",
              "      <td>0.998167</td>\n",
              "      <td>0.747245</td>\n",
              "      <td>0.745750</td>\n",
              "    </tr>\n",
              "    <tr>\n",
              "      <th>782</th>\n",
              "      <td>26</td>\n",
              "      <td>0.073335</td>\n",
              "      <td>0.979149</td>\n",
              "      <td>0.139943</td>\n",
              "      <td>0.904797</td>\n",
              "      <td>0.000000</td>\n",
              "      <td>0.003695</td>\n",
              "      <td>0.536825</td>\n",
              "      <td>0.535884</td>\n",
              "      <td>0.996741</td>\n",
              "      <td>0.995333</td>\n",
              "      <td>0.997166</td>\n",
              "      <td>0.995875</td>\n",
              "      <td>0.746748</td>\n",
              "      <td>0.745208</td>\n",
              "    </tr>\n",
              "    <tr>\n",
              "      <th>783</th>\n",
              "      <td>27</td>\n",
              "      <td>0.388445</td>\n",
              "      <td>0.947711</td>\n",
              "      <td>0.000000</td>\n",
              "      <td>0.846937</td>\n",
              "      <td>0.001329</td>\n",
              "      <td>0.000000</td>\n",
              "      <td>0.537484</td>\n",
              "      <td>0.536617</td>\n",
              "      <td>0.996148</td>\n",
              "      <td>0.994417</td>\n",
              "      <td>0.996122</td>\n",
              "      <td>0.994793</td>\n",
              "      <td>0.747296</td>\n",
              "      <td>0.745775</td>\n",
              "    </tr>\n",
              "  </tbody>\n",
              "</table>\n",
              "<p>784 rows × 15 columns</p>\n",
              "</div>\n",
              "    <div class=\"colab-df-buttons\">\n",
              "\n",
              "  <div class=\"colab-df-container\">\n",
              "    <button class=\"colab-df-convert\" onclick=\"convertToInteractive('df-6fe83726-59b0-47c6-b361-e5e33727c131')\"\n",
              "            title=\"Convert this dataframe to an interactive table.\"\n",
              "            style=\"display:none;\">\n",
              "\n",
              "  <svg xmlns=\"http://www.w3.org/2000/svg\" height=\"24px\" viewBox=\"0 -960 960 960\">\n",
              "    <path d=\"M120-120v-720h720v720H120Zm60-500h600v-160H180v160Zm220 220h160v-160H400v160Zm0 220h160v-160H400v160ZM180-400h160v-160H180v160Zm440 0h160v-160H620v160ZM180-180h160v-160H180v160Zm440 0h160v-160H620v160Z\"/>\n",
              "  </svg>\n",
              "    </button>\n",
              "\n",
              "  <style>\n",
              "    .colab-df-container {\n",
              "      display:flex;\n",
              "      gap: 12px;\n",
              "    }\n",
              "\n",
              "    .colab-df-convert {\n",
              "      background-color: #E8F0FE;\n",
              "      border: none;\n",
              "      border-radius: 50%;\n",
              "      cursor: pointer;\n",
              "      display: none;\n",
              "      fill: #1967D2;\n",
              "      height: 32px;\n",
              "      padding: 0 0 0 0;\n",
              "      width: 32px;\n",
              "    }\n",
              "\n",
              "    .colab-df-convert:hover {\n",
              "      background-color: #E2EBFA;\n",
              "      box-shadow: 0px 1px 2px rgba(60, 64, 67, 0.3), 0px 1px 3px 1px rgba(60, 64, 67, 0.15);\n",
              "      fill: #174EA6;\n",
              "    }\n",
              "\n",
              "    .colab-df-buttons div {\n",
              "      margin-bottom: 4px;\n",
              "    }\n",
              "\n",
              "    [theme=dark] .colab-df-convert {\n",
              "      background-color: #3B4455;\n",
              "      fill: #D2E3FC;\n",
              "    }\n",
              "\n",
              "    [theme=dark] .colab-df-convert:hover {\n",
              "      background-color: #434B5C;\n",
              "      box-shadow: 0px 1px 3px 1px rgba(0, 0, 0, 0.15);\n",
              "      filter: drop-shadow(0px 1px 2px rgba(0, 0, 0, 0.3));\n",
              "      fill: #FFFFFF;\n",
              "    }\n",
              "  </style>\n",
              "\n",
              "    <script>\n",
              "      const buttonEl =\n",
              "        document.querySelector('#df-6fe83726-59b0-47c6-b361-e5e33727c131 button.colab-df-convert');\n",
              "      buttonEl.style.display =\n",
              "        google.colab.kernel.accessAllowed ? 'block' : 'none';\n",
              "\n",
              "      async function convertToInteractive(key) {\n",
              "        const element = document.querySelector('#df-6fe83726-59b0-47c6-b361-e5e33727c131');\n",
              "        const dataTable =\n",
              "          await google.colab.kernel.invokeFunction('convertToInteractive',\n",
              "                                                    [key], {});\n",
              "        if (!dataTable) return;\n",
              "\n",
              "        const docLinkHtml = 'Like what you see? Visit the ' +\n",
              "          '<a target=\"_blank\" href=https://colab.research.google.com/notebooks/data_table.ipynb>data table notebook</a>'\n",
              "          + ' to learn more about interactive tables.';\n",
              "        element.innerHTML = '';\n",
              "        dataTable['output_type'] = 'display_data';\n",
              "        await google.colab.output.renderOutput(dataTable, element);\n",
              "        const docLink = document.createElement('div');\n",
              "        docLink.innerHTML = docLinkHtml;\n",
              "        element.appendChild(docLink);\n",
              "      }\n",
              "    </script>\n",
              "  </div>\n",
              "\n",
              "\n",
              "<div id=\"df-98525ee4-6792-4541-8896-e453475af11d\">\n",
              "  <button class=\"colab-df-quickchart\" onclick=\"quickchart('df-98525ee4-6792-4541-8896-e453475af11d')\"\n",
              "            title=\"Suggest charts\"\n",
              "            style=\"display:none;\">\n",
              "\n",
              "<svg xmlns=\"http://www.w3.org/2000/svg\" height=\"24px\"viewBox=\"0 0 24 24\"\n",
              "     width=\"24px\">\n",
              "    <g>\n",
              "        <path d=\"M19 3H5c-1.1 0-2 .9-2 2v14c0 1.1.9 2 2 2h14c1.1 0 2-.9 2-2V5c0-1.1-.9-2-2-2zM9 17H7v-7h2v7zm4 0h-2V7h2v10zm4 0h-2v-4h2v4z\"/>\n",
              "    </g>\n",
              "</svg>\n",
              "  </button>\n",
              "\n",
              "<style>\n",
              "  .colab-df-quickchart {\n",
              "      --bg-color: #E8F0FE;\n",
              "      --fill-color: #1967D2;\n",
              "      --hover-bg-color: #E2EBFA;\n",
              "      --hover-fill-color: #174EA6;\n",
              "      --disabled-fill-color: #AAA;\n",
              "      --disabled-bg-color: #DDD;\n",
              "  }\n",
              "\n",
              "  [theme=dark] .colab-df-quickchart {\n",
              "      --bg-color: #3B4455;\n",
              "      --fill-color: #D2E3FC;\n",
              "      --hover-bg-color: #434B5C;\n",
              "      --hover-fill-color: #FFFFFF;\n",
              "      --disabled-bg-color: #3B4455;\n",
              "      --disabled-fill-color: #666;\n",
              "  }\n",
              "\n",
              "  .colab-df-quickchart {\n",
              "    background-color: var(--bg-color);\n",
              "    border: none;\n",
              "    border-radius: 50%;\n",
              "    cursor: pointer;\n",
              "    display: none;\n",
              "    fill: var(--fill-color);\n",
              "    height: 32px;\n",
              "    padding: 0;\n",
              "    width: 32px;\n",
              "  }\n",
              "\n",
              "  .colab-df-quickchart:hover {\n",
              "    background-color: var(--hover-bg-color);\n",
              "    box-shadow: 0 1px 2px rgba(60, 64, 67, 0.3), 0 1px 3px 1px rgba(60, 64, 67, 0.15);\n",
              "    fill: var(--button-hover-fill-color);\n",
              "  }\n",
              "\n",
              "  .colab-df-quickchart-complete:disabled,\n",
              "  .colab-df-quickchart-complete:disabled:hover {\n",
              "    background-color: var(--disabled-bg-color);\n",
              "    fill: var(--disabled-fill-color);\n",
              "    box-shadow: none;\n",
              "  }\n",
              "\n",
              "  .colab-df-spinner {\n",
              "    border: 2px solid var(--fill-color);\n",
              "    border-color: transparent;\n",
              "    border-bottom-color: var(--fill-color);\n",
              "    animation:\n",
              "      spin 1s steps(1) infinite;\n",
              "  }\n",
              "\n",
              "  @keyframes spin {\n",
              "    0% {\n",
              "      border-color: transparent;\n",
              "      border-bottom-color: var(--fill-color);\n",
              "      border-left-color: var(--fill-color);\n",
              "    }\n",
              "    20% {\n",
              "      border-color: transparent;\n",
              "      border-left-color: var(--fill-color);\n",
              "      border-top-color: var(--fill-color);\n",
              "    }\n",
              "    30% {\n",
              "      border-color: transparent;\n",
              "      border-left-color: var(--fill-color);\n",
              "      border-top-color: var(--fill-color);\n",
              "      border-right-color: var(--fill-color);\n",
              "    }\n",
              "    40% {\n",
              "      border-color: transparent;\n",
              "      border-right-color: var(--fill-color);\n",
              "      border-top-color: var(--fill-color);\n",
              "    }\n",
              "    60% {\n",
              "      border-color: transparent;\n",
              "      border-right-color: var(--fill-color);\n",
              "    }\n",
              "    80% {\n",
              "      border-color: transparent;\n",
              "      border-right-color: var(--fill-color);\n",
              "      border-bottom-color: var(--fill-color);\n",
              "    }\n",
              "    90% {\n",
              "      border-color: transparent;\n",
              "      border-bottom-color: var(--fill-color);\n",
              "    }\n",
              "  }\n",
              "</style>\n",
              "\n",
              "  <script>\n",
              "    async function quickchart(key) {\n",
              "      const quickchartButtonEl =\n",
              "        document.querySelector('#' + key + ' button');\n",
              "      quickchartButtonEl.disabled = true;  // To prevent multiple clicks.\n",
              "      quickchartButtonEl.classList.add('colab-df-spinner');\n",
              "      try {\n",
              "        const charts = await google.colab.kernel.invokeFunction(\n",
              "            'suggestCharts', [key], {});\n",
              "      } catch (error) {\n",
              "        console.error('Error during call to suggestCharts:', error);\n",
              "      }\n",
              "      quickchartButtonEl.classList.remove('colab-df-spinner');\n",
              "      quickchartButtonEl.classList.add('colab-df-quickchart-complete');\n",
              "    }\n",
              "    (() => {\n",
              "      let quickchartButtonEl =\n",
              "        document.querySelector('#df-98525ee4-6792-4541-8896-e453475af11d button');\n",
              "      quickchartButtonEl.style.display =\n",
              "        google.colab.kernel.accessAllowed ? 'block' : 'none';\n",
              "    })();\n",
              "  </script>\n",
              "</div>\n",
              "\n",
              "  <div id=\"id_012e7a0c-59c9-45d8-bce6-b903dd59d078\">\n",
              "    <style>\n",
              "      .colab-df-generate {\n",
              "        background-color: #E8F0FE;\n",
              "        border: none;\n",
              "        border-radius: 50%;\n",
              "        cursor: pointer;\n",
              "        display: none;\n",
              "        fill: #1967D2;\n",
              "        height: 32px;\n",
              "        padding: 0 0 0 0;\n",
              "        width: 32px;\n",
              "      }\n",
              "\n",
              "      .colab-df-generate:hover {\n",
              "        background-color: #E2EBFA;\n",
              "        box-shadow: 0px 1px 2px rgba(60, 64, 67, 0.3), 0px 1px 3px 1px rgba(60, 64, 67, 0.15);\n",
              "        fill: #174EA6;\n",
              "      }\n",
              "\n",
              "      [theme=dark] .colab-df-generate {\n",
              "        background-color: #3B4455;\n",
              "        fill: #D2E3FC;\n",
              "      }\n",
              "\n",
              "      [theme=dark] .colab-df-generate:hover {\n",
              "        background-color: #434B5C;\n",
              "        box-shadow: 0px 1px 3px 1px rgba(0, 0, 0, 0.15);\n",
              "        filter: drop-shadow(0px 1px 2px rgba(0, 0, 0, 0.3));\n",
              "        fill: #FFFFFF;\n",
              "      }\n",
              "    </style>\n",
              "    <button class=\"colab-df-generate\" onclick=\"generateWithVariable('X_combined')\"\n",
              "            title=\"Generate code using this dataframe.\"\n",
              "            style=\"display:none;\">\n",
              "\n",
              "  <svg xmlns=\"http://www.w3.org/2000/svg\" height=\"24px\"viewBox=\"0 0 24 24\"\n",
              "       width=\"24px\">\n",
              "    <path d=\"M7,19H8.4L18.45,9,17,7.55,7,17.6ZM5,21V16.75L18.45,3.32a2,2,0,0,1,2.83,0l1.4,1.43a1.91,1.91,0,0,1,.58,1.4,1.91,1.91,0,0,1-.58,1.4L9.25,21ZM18.45,9,17,7.55Zm-12,3A5.31,5.31,0,0,0,4.9,8.1,5.31,5.31,0,0,0,1,6.5,5.31,5.31,0,0,0,4.9,4.9,5.31,5.31,0,0,0,6.5,1,5.31,5.31,0,0,0,8.1,4.9,5.31,5.31,0,0,0,12,6.5,5.46,5.46,0,0,0,6.5,12Z\"/>\n",
              "  </svg>\n",
              "    </button>\n",
              "    <script>\n",
              "      (() => {\n",
              "      const buttonEl =\n",
              "        document.querySelector('#id_012e7a0c-59c9-45d8-bce6-b903dd59d078 button.colab-df-generate');\n",
              "      buttonEl.style.display =\n",
              "        google.colab.kernel.accessAllowed ? 'block' : 'none';\n",
              "\n",
              "      buttonEl.onclick = () => {\n",
              "        google.colab.notebook.generateWithVariable('X_combined');\n",
              "      }\n",
              "      })();\n",
              "    </script>\n",
              "  </div>\n",
              "\n",
              "    </div>\n",
              "  </div>\n"
            ],
            "application/vnd.google.colaboratory.intrinsic+json": {
              "type": "dataframe",
              "variable_name": "X_combined",
              "summary": "{\n  \"name\": \"X_combined\",\n  \"rows\": 784,\n  \"fields\": [\n    {\n      \"column\": \"DAT\",\n      \"properties\": {\n        \"dtype\": \"number\",\n        \"std\": 8,\n        \"min\": 0,\n        \"max\": 27,\n        \"num_unique_values\": 28,\n        \"samples\": [\n          9,\n          25,\n          8\n        ],\n        \"semantic_type\": \"\",\n        \"description\": \"\"\n      }\n    },\n    {\n      \"column\": \"\\ub0b4\\ubd80\\uc628\\ub3c4\\uad00\\uce21\\uce58\",\n      \"properties\": {\n        \"dtype\": \"number\",\n        \"std\": 0.3085940022709666,\n        \"min\": 0.0,\n        \"max\": 1.0,\n        \"num_unique_values\": 724,\n        \"samples\": [\n          0.09152490885523311,\n          0.796051772463316,\n          0.3869176661811015\n        ],\n        \"semantic_type\": \"\",\n        \"description\": \"\"\n      }\n    },\n    {\n      \"column\": \"\\ub0b4\\ubd80\\uc2b5\\ub3c4\\uad00\\uce21\\uce58\",\n      \"properties\": {\n        \"dtype\": \"number\",\n        \"std\": 0.3141099152332123,\n        \"min\": 0.0,\n        \"max\": 1.0,\n        \"num_unique_values\": 724,\n        \"samples\": [\n          0.9215147600403897,\n          0.04379991900506931,\n          0.9757569254404518\n        ],\n        \"semantic_type\": \"\",\n        \"description\": \"\"\n      }\n    },\n    {\n      \"column\": \"co2\\uad00\\uce21\\uce58\",\n      \"properties\": {\n        \"dtype\": \"number\",\n        \"std\": 0.27898501565602135,\n        \"min\": 0.0,\n        \"max\": 1.0,\n        \"num_unique_values\": 724,\n        \"samples\": [\n          0.28884448144599517,\n          0.6751642001381704,\n          0.5127532539673634\n        ],\n        \"semantic_type\": \"\",\n        \"description\": \"\"\n      }\n    },\n    {\n      \"column\": \"ec\\uad00\\uce21\\uce58\",\n      \"properties\": {\n        \"dtype\": \"number\",\n        \"std\": 0.33864914096460097,\n        \"min\": 0.0,\n        \"max\": 1.0,\n        \"num_unique_values\": 666,\n        \"samples\": [\n          0.5368112176342743,\n          0.5506940613516493,\n          0.7234267696268336\n        ],\n        \"semantic_type\": \"\",\n        \"description\": \"\"\n      }\n    },\n    {\n      \"column\": \"\\uc2dc\\uac04\\ub2f9\\ubd84\\ubb34\\ub7c9\",\n      \"properties\": {\n        \"dtype\": \"number\",\n        \"std\": 0.34987360060214073,\n        \"min\": 0.0,\n        \"max\": 1.0,\n        \"num_unique_values\": 514,\n        \"samples\": [\n          0.16372165280148868,\n          0.15805996760714822,\n          0.6454513090647985\n        ],\n        \"semantic_type\": \"\",\n        \"description\": \"\"\n      }\n    },\n    {\n      \"column\": \"\\uc77c\\uac04\\ub204\\uc801\\ubd84\\ubb34\\ub7c9\",\n      \"properties\": {\n        \"dtype\": \"number\",\n        \"std\": 0.35201070065246065,\n        \"min\": 0.0,\n        \"max\": 1.0,\n        \"num_unique_values\": 556,\n        \"samples\": [\n          0.28829833577371106,\n          0.7503489163526771,\n          0.8087911676164131\n        ],\n        \"semantic_type\": \"\",\n        \"description\": \"\"\n      }\n    },\n    {\n      \"column\": \"\\uc2dc\\uac04\\ub2f9\\ubc31\\uc0c9\\uad11\\ub7c9\",\n      \"properties\": {\n        \"dtype\": \"number\",\n        \"std\": 0.4524710635378586,\n        \"min\": 0.0,\n        \"max\": 1.0,\n        \"num_unique_values\": 464,\n        \"samples\": [\n          0.4695259593679407,\n          0.9943461608608429,\n          0.3981442429354704\n        ],\n        \"semantic_type\": \"\",\n        \"description\": \"\"\n      }\n    },\n    {\n      \"column\": \"\\uc77c\\uac04\\ub204\\uc801\\ubc31\\uc0c9\\uad11\\ub7c9\",\n      \"properties\": {\n        \"dtype\": \"number\",\n        \"std\": 0.45188741278788247,\n        \"min\": 0.0,\n        \"max\": 1.0,\n        \"num_unique_values\": 518,\n        \"samples\": [\n          0.9924261713637361,\n          0.7851083883129254,\n          0.35783365570597647\n        ],\n        \"semantic_type\": \"\",\n        \"description\": \"\"\n      }\n    },\n    {\n      \"column\": \"\\uc2dc\\uac04\\ub2f9\\uc801\\uc0c9\\uad11\\ub7c9\",\n      \"properties\": {\n        \"dtype\": \"number\",\n        \"std\": 0.46142976411968795,\n        \"min\": 0.0,\n        \"max\": 1.0,\n        \"num_unique_values\": 294,\n        \"samples\": [\n          0.9871027176416396,\n          0.4318181818181912,\n          0.7001213794416545\n        ],\n        \"semantic_type\": \"\",\n        \"description\": \"\"\n      }\n    },\n    {\n      \"column\": \"\\uc77c\\uac04\\ub204\\uc801\\uc801\\uc0c9\\uad11\\ub7c9\",\n      \"properties\": {\n        \"dtype\": \"number\",\n        \"std\": 0.46059127833161034,\n        \"min\": 0.0,\n        \"max\": 1.0,\n        \"num_unique_values\": 400,\n        \"samples\": [\n          0.9978413383702105,\n          0.9903325599381284,\n          0.20065252854804522\n        ],\n        \"semantic_type\": \"\",\n        \"description\": \"\"\n      }\n    },\n    {\n      \"column\": \"\\uc2dc\\uac04\\ub2f9\\uccad\\uc0c9\\uad11\\ub7c9\",\n      \"properties\": {\n        \"dtype\": \"number\",\n        \"std\": 0.47400000896028993,\n        \"min\": 0.0,\n        \"max\": 1.0,\n        \"num_unique_values\": 285,\n        \"samples\": [\n          0.8181818181817606,\n          0.9984457109022277,\n          0.803956834532374\n        ],\n        \"semantic_type\": \"\",\n        \"description\": \"\"\n      }\n    },\n    {\n      \"column\": \"\\uc77c\\uac04\\ub204\\uc801\\uccad\\uc0c9\\uad11\\ub7c9\",\n      \"properties\": {\n        \"dtype\": \"number\",\n        \"std\": 0.4724767810329489,\n        \"min\": 0.0,\n        \"max\": 1.0,\n        \"num_unique_values\": 374,\n        \"samples\": [\n          0.9973720451300712,\n          0.9929816725950272,\n          0.18616144975300375\n        ],\n        \"semantic_type\": \"\",\n        \"description\": \"\"\n      }\n    },\n    {\n      \"column\": \"\\uc2dc\\uac04\\ub2f9\\ucd1d\\uad11\\ub7c9\",\n      \"properties\": {\n        \"dtype\": \"number\",\n        \"std\": 0.3347069817287485,\n        \"min\": 0.0,\n        \"max\": 1.0,\n        \"num_unique_values\": 605,\n        \"samples\": [\n          0.9532749269920735,\n          0.9982899973404844,\n          0.996937908102883\n        ],\n        \"semantic_type\": \"\",\n        \"description\": \"\"\n      }\n    },\n    {\n      \"column\": \"\\uc77c\\uac04\\ub204\\uc801\\ucd1d\\uad11\\ub7c9\",\n      \"properties\": {\n        \"dtype\": \"number\",\n        \"std\": 0.3304320597808204,\n        \"min\": 0.0,\n        \"max\": 1.0,\n        \"num_unique_values\": 686,\n        \"samples\": [\n          0.6823683601881119,\n          0.9972100443910694,\n          0.9652144252694821\n        ],\n        \"semantic_type\": \"\",\n        \"description\": \"\"\n      }\n    }\n  ]\n}"
            }
          },
          "metadata": {},
          "execution_count": 20
        }
      ]
    },
    {
      "cell_type": "code",
      "source": [
        "X_combined.drop(['시간당백색광량','시간당적색광량','시간당청색광량','시간당총광량'], axis=1, inplace=True)\n",
        "X_combined_test.drop(['시간당백색광량','시간당적색광량','시간당청색광량','시간당총광량'], axis=1, inplace=True)"
      ],
      "metadata": {
        "id": "BOFpbRQ7G9zn"
      },
      "execution_count": null,
      "outputs": []
    },
    {
      "cell_type": "code",
      "source": [
        "X_train, X_test, y_train, y_test = train_test_split(X_combined, y_combined, test_size=0.2, random_state=42)"
      ],
      "metadata": {
        "id": "SEj0_BaWDKis"
      },
      "execution_count": null,
      "outputs": []
    },
    {
      "cell_type": "code",
      "source": [
        "# LSTM 입력 형태 맞추기\n",
        "X_train = np.expand_dims(X_train, axis=-1)\n",
        "X_test = np.expand_dims(X_test, axis=-1)\n",
        "X_combined_test = np.expand_dims(X_combined_test, axis=-1)"
      ],
      "metadata": {
        "id": "ZQ3ZMCT_DRiw"
      },
      "execution_count": null,
      "outputs": []
    },
    {
      "cell_type": "code",
      "source": [
        "# 모델 정의 함수\n",
        "def define_model(input_shape):\n",
        "    model = Sequential()\n",
        "    model.add(LSTM(50, return_sequences=True, input_shape=(X_train.shape[1], 1)))\n",
        "    model.add(Dropout(0.2))\n",
        "    model.add(LSTM(50, return_sequences=True))\n",
        "    model.add(Dropout(0.2))\n",
        "    model.add(LSTM(50, return_sequences=True))\n",
        "    model.add(Dropout(0.2))\n",
        "    model.add(LSTM(50, return_sequences=False))\n",
        "    model.add(Dropout(0.2))\n",
        "    model.add(Dense(50, activation='relu'))\n",
        "    model.add(Dense(25, activation='relu'))\n",
        "    model.add(Dense(1))\n",
        "    model.compile(optimizer='adam', loss='mean_squared_error',metrics = ['mean_absolute_error'])\n",
        "    return model"
      ],
      "metadata": {
        "id": "4sD_ZWmh8UWA"
      },
      "execution_count": null,
      "outputs": []
    },
    {
      "cell_type": "code",
      "source": [
        "# 모델 정의\n",
        "model = define_model((X_train.shape[1], 1))"
      ],
      "metadata": {
        "id": "HTp7uebC6Qpz"
      },
      "execution_count": null,
      "outputs": []
    },
    {
      "cell_type": "code",
      "source": [
        "# 모델 학습 함수\n",
        "def train_model(model, X_train, y_train, X_test, y_test):\n",
        "    model.fit(X_train, y_train, epochs=50, batch_size=32, validation_split=0.2)\n",
        "    return model"
      ],
      "metadata": {
        "id": "ahD0FwuP8-m_"
      },
      "execution_count": null,
      "outputs": []
    },
    {
      "cell_type": "code",
      "source": [
        "# 모델 평가 함수\n",
        "def evaluate_model(model, X_test, y_test):\n",
        "    y_pred = model.predict(X_test)\n",
        "    rmse = mean_squared_error(y_test, y_pred, squared=False)\n",
        "    return rmse, y_pred"
      ],
      "metadata": {
        "id": "S7Nxy7DC89sE"
      },
      "execution_count": null,
      "outputs": []
    },
    {
      "cell_type": "code",
      "source": [
        "model.summary()"
      ],
      "metadata": {
        "colab": {
          "base_uri": "https://localhost:8080/"
        },
        "id": "T95Mrw4V6cuL",
        "outputId": "ffbf1330-60d6-46e0-d158-e3dd0fdf3e9c"
      },
      "execution_count": null,
      "outputs": [
        {
          "output_type": "stream",
          "name": "stdout",
          "text": [
            "Model: \"sequential\"\n",
            "_________________________________________________________________\n",
            " Layer (type)                Output Shape              Param #   \n",
            "=================================================================\n",
            " lstm (LSTM)                 (None, 11, 50)            10400     \n",
            "                                                                 \n",
            " dropout (Dropout)           (None, 11, 50)            0         \n",
            "                                                                 \n",
            " lstm_1 (LSTM)               (None, 11, 50)            20200     \n",
            "                                                                 \n",
            " dropout_1 (Dropout)         (None, 11, 50)            0         \n",
            "                                                                 \n",
            " lstm_2 (LSTM)               (None, 11, 50)            20200     \n",
            "                                                                 \n",
            " dropout_2 (Dropout)         (None, 11, 50)            0         \n",
            "                                                                 \n",
            " lstm_3 (LSTM)               (None, 50)                20200     \n",
            "                                                                 \n",
            " dropout_3 (Dropout)         (None, 50)                0         \n",
            "                                                                 \n",
            " dense (Dense)               (None, 50)                2550      \n",
            "                                                                 \n",
            " dense_1 (Dense)             (None, 25)                1275      \n",
            "                                                                 \n",
            " dense_2 (Dense)             (None, 1)                 26        \n",
            "                                                                 \n",
            "=================================================================\n",
            "Total params: 74851 (292.39 KB)\n",
            "Trainable params: 74851 (292.39 KB)\n",
            "Non-trainable params: 0 (0.00 Byte)\n",
            "_________________________________________________________________\n"
          ]
        }
      ]
    },
    {
      "cell_type": "code",
      "source": [
        "model.fit(X_train, y_train,  epochs=50, batch_size=32, validation_split=0.2)"
      ],
      "metadata": {
        "colab": {
          "base_uri": "https://localhost:8080/"
        },
        "id": "Q45PkJrGANeF",
        "outputId": "115c1fe1-6c9f-4842-8214-177f495237f3"
      },
      "execution_count": null,
      "outputs": [
        {
          "output_type": "stream",
          "name": "stdout",
          "text": [
            "Epoch 1/50\n",
            "16/16 [==============================] - 19s 230ms/step - loss: 2873.6929 - mean_absolute_error: 33.8900 - val_loss: 2453.0732 - val_mean_absolute_error: 31.4078\n",
            "Epoch 2/50\n",
            "16/16 [==============================] - 1s 46ms/step - loss: 2414.4812 - mean_absolute_error: 29.7888 - val_loss: 1876.8688 - val_mean_absolute_error: 28.9467\n",
            "Epoch 3/50\n",
            "16/16 [==============================] - 1s 51ms/step - loss: 1890.7863 - mean_absolute_error: 30.2911 - val_loss: 1557.6832 - val_mean_absolute_error: 30.0788\n",
            "Epoch 4/50\n",
            "16/16 [==============================] - 1s 49ms/step - loss: 1769.0038 - mean_absolute_error: 33.8169 - val_loss: 1564.4089 - val_mean_absolute_error: 31.6453\n",
            "Epoch 5/50\n",
            "16/16 [==============================] - 1s 43ms/step - loss: 1771.8448 - mean_absolute_error: 33.1144 - val_loss: 1555.9553 - val_mean_absolute_error: 30.2245\n",
            "Epoch 6/50\n",
            "16/16 [==============================] - 1s 32ms/step - loss: 1750.6863 - mean_absolute_error: 32.4784 - val_loss: 1553.8986 - val_mean_absolute_error: 30.7633\n",
            "Epoch 7/50\n",
            "16/16 [==============================] - 0s 30ms/step - loss: 1752.8531 - mean_absolute_error: 32.9530 - val_loss: 1553.8680 - val_mean_absolute_error: 30.7930\n",
            "Epoch 8/50\n",
            "16/16 [==============================] - 1s 33ms/step - loss: 1754.9692 - mean_absolute_error: 32.6094 - val_loss: 1553.6681 - val_mean_absolute_error: 30.4752\n",
            "Epoch 9/50\n",
            "16/16 [==============================] - 1s 65ms/step - loss: 1753.9009 - mean_absolute_error: 32.6588 - val_loss: 1552.6967 - val_mean_absolute_error: 30.5325\n",
            "Epoch 10/50\n",
            "16/16 [==============================] - 1s 38ms/step - loss: 1754.4232 - mean_absolute_error: 32.2536 - val_loss: 1546.4529 - val_mean_absolute_error: 30.2243\n",
            "Epoch 11/50\n",
            "16/16 [==============================] - 1s 31ms/step - loss: 1600.5491 - mean_absolute_error: 28.8887 - val_loss: 1095.8922 - val_mean_absolute_error: 19.7020\n",
            "Epoch 12/50\n",
            "16/16 [==============================] - 1s 32ms/step - loss: 1224.2996 - mean_absolute_error: 22.5122 - val_loss: 930.0908 - val_mean_absolute_error: 21.0590\n",
            "Epoch 13/50\n",
            "16/16 [==============================] - 1s 32ms/step - loss: 1040.8380 - mean_absolute_error: 21.2047 - val_loss: 768.9365 - val_mean_absolute_error: 18.7533\n",
            "Epoch 14/50\n",
            "16/16 [==============================] - 0s 30ms/step - loss: 915.0148 - mean_absolute_error: 18.5631 - val_loss: 683.0370 - val_mean_absolute_error: 17.7434\n",
            "Epoch 15/50\n",
            "16/16 [==============================] - 1s 33ms/step - loss: 866.6119 - mean_absolute_error: 18.8094 - val_loss: 842.0491 - val_mean_absolute_error: 20.8591\n",
            "Epoch 16/50\n",
            "16/16 [==============================] - 0s 30ms/step - loss: 838.6502 - mean_absolute_error: 17.6924 - val_loss: 766.3688 - val_mean_absolute_error: 20.5993\n",
            "Epoch 17/50\n",
            "16/16 [==============================] - 1s 33ms/step - loss: 845.6450 - mean_absolute_error: 17.9826 - val_loss: 602.0912 - val_mean_absolute_error: 15.1092\n",
            "Epoch 18/50\n",
            "16/16 [==============================] - 0s 31ms/step - loss: 829.3330 - mean_absolute_error: 18.5967 - val_loss: 648.1129 - val_mean_absolute_error: 14.6184\n",
            "Epoch 19/50\n",
            "16/16 [==============================] - 1s 34ms/step - loss: 820.0886 - mean_absolute_error: 17.8185 - val_loss: 652.0737 - val_mean_absolute_error: 16.1584\n",
            "Epoch 20/50\n",
            "16/16 [==============================] - 0s 31ms/step - loss: 823.6381 - mean_absolute_error: 17.9872 - val_loss: 675.8377 - val_mean_absolute_error: 16.1941\n",
            "Epoch 21/50\n",
            "16/16 [==============================] - 1s 32ms/step - loss: 840.6703 - mean_absolute_error: 17.8975 - val_loss: 651.8859 - val_mean_absolute_error: 15.8101\n",
            "Epoch 22/50\n",
            "16/16 [==============================] - 1s 33ms/step - loss: 798.7491 - mean_absolute_error: 17.3221 - val_loss: 664.3880 - val_mean_absolute_error: 16.5983\n",
            "Epoch 23/50\n",
            "16/16 [==============================] - 1s 33ms/step - loss: 808.6376 - mean_absolute_error: 17.7033 - val_loss: 641.0746 - val_mean_absolute_error: 15.7712\n",
            "Epoch 24/50\n",
            "16/16 [==============================] - 1s 50ms/step - loss: 776.6046 - mean_absolute_error: 16.7128 - val_loss: 670.9928 - val_mean_absolute_error: 17.8750\n",
            "Epoch 25/50\n",
            "16/16 [==============================] - 1s 47ms/step - loss: 791.1063 - mean_absolute_error: 17.7597 - val_loss: 632.4633 - val_mean_absolute_error: 14.7746\n",
            "Epoch 26/50\n",
            "16/16 [==============================] - 1s 48ms/step - loss: 818.4064 - mean_absolute_error: 17.7439 - val_loss: 630.5547 - val_mean_absolute_error: 15.7042\n",
            "Epoch 27/50\n",
            "16/16 [==============================] - 1s 49ms/step - loss: 781.9771 - mean_absolute_error: 17.8339 - val_loss: 679.0817 - val_mean_absolute_error: 15.2538\n",
            "Epoch 28/50\n",
            "16/16 [==============================] - 1s 47ms/step - loss: 835.4177 - mean_absolute_error: 17.6073 - val_loss: 652.9686 - val_mean_absolute_error: 16.1904\n",
            "Epoch 29/50\n",
            "16/16 [==============================] - 0s 31ms/step - loss: 832.8991 - mean_absolute_error: 17.4831 - val_loss: 694.4807 - val_mean_absolute_error: 17.5725\n",
            "Epoch 30/50\n",
            "16/16 [==============================] - 1s 32ms/step - loss: 809.2806 - mean_absolute_error: 17.5639 - val_loss: 635.9731 - val_mean_absolute_error: 15.2722\n",
            "Epoch 31/50\n",
            "16/16 [==============================] - 0s 29ms/step - loss: 801.3890 - mean_absolute_error: 17.6082 - val_loss: 634.9243 - val_mean_absolute_error: 14.6973\n",
            "Epoch 32/50\n",
            "16/16 [==============================] - 1s 32ms/step - loss: 821.1502 - mean_absolute_error: 18.3951 - val_loss: 641.5524 - val_mean_absolute_error: 15.5680\n",
            "Epoch 33/50\n",
            "16/16 [==============================] - 0s 30ms/step - loss: 792.3777 - mean_absolute_error: 16.9214 - val_loss: 724.5234 - val_mean_absolute_error: 18.4096\n",
            "Epoch 34/50\n",
            "16/16 [==============================] - 1s 36ms/step - loss: 815.6110 - mean_absolute_error: 17.4116 - val_loss: 618.6995 - val_mean_absolute_error: 15.6423\n",
            "Epoch 35/50\n",
            "16/16 [==============================] - 0s 29ms/step - loss: 806.8802 - mean_absolute_error: 17.7444 - val_loss: 629.2642 - val_mean_absolute_error: 14.6872\n",
            "Epoch 36/50\n",
            "16/16 [==============================] - 1s 33ms/step - loss: 807.5717 - mean_absolute_error: 18.3393 - val_loss: 621.5391 - val_mean_absolute_error: 14.8570\n",
            "Epoch 37/50\n",
            "16/16 [==============================] - 0s 29ms/step - loss: 839.4634 - mean_absolute_error: 17.6735 - val_loss: 702.0754 - val_mean_absolute_error: 18.0679\n",
            "Epoch 38/50\n",
            "16/16 [==============================] - 0s 30ms/step - loss: 828.7590 - mean_absolute_error: 17.2809 - val_loss: 655.7064 - val_mean_absolute_error: 16.6764\n",
            "Epoch 39/50\n",
            "16/16 [==============================] - 1s 32ms/step - loss: 798.1619 - mean_absolute_error: 17.6604 - val_loss: 615.9564 - val_mean_absolute_error: 14.6942\n",
            "Epoch 40/50\n",
            "16/16 [==============================] - 0s 30ms/step - loss: 806.1862 - mean_absolute_error: 17.6265 - val_loss: 651.9386 - val_mean_absolute_error: 16.5033\n",
            "Epoch 41/50\n",
            "16/16 [==============================] - 1s 32ms/step - loss: 789.8554 - mean_absolute_error: 17.1621 - val_loss: 618.9139 - val_mean_absolute_error: 14.6400\n",
            "Epoch 42/50\n",
            "16/16 [==============================] - 0s 30ms/step - loss: 825.3444 - mean_absolute_error: 17.8731 - val_loss: 628.1697 - val_mean_absolute_error: 15.4414\n",
            "Epoch 43/50\n",
            "16/16 [==============================] - 1s 33ms/step - loss: 752.4600 - mean_absolute_error: 16.5536 - val_loss: 697.0867 - val_mean_absolute_error: 17.1192\n",
            "Epoch 44/50\n",
            "16/16 [==============================] - 0s 30ms/step - loss: 769.4510 - mean_absolute_error: 17.6789 - val_loss: 642.4644 - val_mean_absolute_error: 15.0764\n",
            "Epoch 45/50\n",
            "16/16 [==============================] - 1s 33ms/step - loss: 785.8973 - mean_absolute_error: 16.9062 - val_loss: 627.6475 - val_mean_absolute_error: 15.7884\n",
            "Epoch 46/50\n",
            "16/16 [==============================] - 0s 31ms/step - loss: 770.7194 - mean_absolute_error: 17.0618 - val_loss: 624.6449 - val_mean_absolute_error: 15.2706\n",
            "Epoch 47/50\n",
            "16/16 [==============================] - 1s 32ms/step - loss: 765.9960 - mean_absolute_error: 17.2611 - val_loss: 610.9798 - val_mean_absolute_error: 14.8049\n",
            "Epoch 48/50\n",
            "16/16 [==============================] - 1s 39ms/step - loss: 747.7606 - mean_absolute_error: 17.1599 - val_loss: 616.7225 - val_mean_absolute_error: 14.9499\n",
            "Epoch 49/50\n",
            "16/16 [==============================] - 1s 48ms/step - loss: 791.4028 - mean_absolute_error: 17.6893 - val_loss: 622.0961 - val_mean_absolute_error: 14.8305\n",
            "Epoch 50/50\n",
            "16/16 [==============================] - 1s 48ms/step - loss: 797.8926 - mean_absolute_error: 16.8386 - val_loss: 724.6417 - val_mean_absolute_error: 17.9707\n"
          ]
        },
        {
          "output_type": "execute_result",
          "data": {
            "text/plain": [
              "<keras.src.callbacks.History at 0x7a0bd4f94ca0>"
            ]
          },
          "metadata": {},
          "execution_count": 29
        }
      ]
    },
    {
      "cell_type": "code",
      "source": [
        "from sklearn.metrics import mean_squared_error"
      ],
      "metadata": {
        "id": "02Lov03qISbs"
      },
      "execution_count": null,
      "outputs": []
    },
    {
      "cell_type": "code",
      "source": [
        "# 모델 평가 함수\n",
        "def evaluate_model(model, X_test, y_test):\n",
        "    y_pred = model.predict(X_test)\n",
        "    rmse = mean_squared_error(y_test, y_pred, squared=False)\n",
        "    return rmse, y_pred"
      ],
      "metadata": {
        "id": "azFXYSn_H9mf"
      },
      "execution_count": null,
      "outputs": []
    },
    {
      "cell_type": "code",
      "source": [
        "# 모델 평가\n",
        "rmse, y_pred = evaluate_model(model, X_test, y_test)\n",
        "print(f'RMSE: {rmse}')"
      ],
      "metadata": {
        "colab": {
          "base_uri": "https://localhost:8080/"
        },
        "id": "AkRHeWrvFzDn",
        "outputId": "e81e4e2f-b4ae-4561-af29-31c4c231b467"
      },
      "execution_count": null,
      "outputs": [
        {
          "output_type": "stream",
          "name": "stdout",
          "text": [
            "5/5 [==============================] - 2s 10ms/step\n",
            "RMSE: 29.975556071653795\n"
          ]
        }
      ]
    },
    {
      "cell_type": "code",
      "source": [
        "# 결과 시각화 함수\n",
        "def plot_results(y_test, y_pred, title):\n",
        "    plt.figure(figsize=(10, 6))\n",
        "    plt.plot(y_test.values, label='Actual')\n",
        "    plt.plot(y_pred, label='Predicted')\n",
        "    plt.xlabel('Days')\n",
        "    plt.ylabel('Leaf Weight (g)')\n",
        "    plt.title(title)\n",
        "    plt.legend()\n",
        "    plt.show()"
      ],
      "metadata": {
        "id": "V8k6SDeaIb_3"
      },
      "execution_count": null,
      "outputs": []
    },
    {
      "cell_type": "code",
      "source": [
        "# 결과 시각화\n",
        "plot_results(y_test, y_pred, 'Combined CASES: Actual vs Predicted Leaf Weight')"
      ],
      "metadata": {
        "colab": {
          "base_uri": "https://localhost:8080/",
          "height": 571
        },
        "id": "F6vR6rrzIa-X",
        "outputId": "5847007f-0f85-4afc-c51b-1af82e18921b"
      },
      "execution_count": null,
      "outputs": [
        {
          "output_type": "display_data",
          "data": {
            "text/plain": [
              "<Figure size 1000x600 with 1 Axes>"
            ],
            "image/png": "[encoded data removed]"
          },
          "metadata": {}
        }
      ]
    },
    {
      "cell_type": "code",
      "source": [
        "model.save('model_lstm_classic.h5')"
      ],
      "metadata": {
        "id": "LddgXqZ9arok"
      },
      "execution_count": null,
      "outputs": []
    },
    {
      "cell_type": "code",
      "source": [
        "from sklearn.metrics import mean_absolute_error, mean_squared_error\n",
        "\n",
        "# 평가\n",
        "train_mse = mean_squared_error(y_train, y_pred_train)\n",
        "test_mse = mean_squared_error(y_test, y_pred_test)\n",
        "train_mae = mean_absolute_error(y_train, y_pred_train)\n",
        "test_mae = mean_absolute_error(y_test, y_pred_test)\n",
        "\n",
        "# RMSE 계산\n",
        "train_rmse = np.sqrt(train_mse)\n",
        "test_rmse = np.sqrt(test_mse)\n",
        "\n",
        "print(f\"Train MAE: {train_mae:.4f}\")\n",
        "print(f\"Test MAE: {test_mae:.4f}\")\n",
        "print(f\"Train RMSE: {train_rmse:.4f}\")\n",
        "print(f\"Test RMSE: {test_rmse:.4f}\")"
      ],
      "metadata": {
        "colab": {
          "base_uri": "https://localhost:8080/"
        },
        "id": "9iWfKeaPcMuK",
        "outputId": "eca467fe-e0e2-4198-eb7c-11afac5cc691"
      },
      "execution_count": 42,
      "outputs": [
        {
          "output_type": "stream",
          "name": "stdout",
          "text": [
            "Train MAE: 19.3583\n",
            "Test MAE: 20.0347\n",
            "Train RMSE: 28.3129\n",
            "Test RMSE: 29.9756\n"
          ]
        }
      ]
    },
    {
      "cell_type": "code",
      "source": [
        "# 예측\n",
        "predictions = model.predict(X_combined_test)\n"
      ],
      "metadata": {
        "colab": {
          "base_uri": "https://localhost:8080/"
        },
        "id": "8EBZeXE2PfWr",
        "outputId": "1fd37b7c-1b9f-4175-ca69-c731b884cb4f"
      },
      "execution_count": null,
      "outputs": [
        {
          "output_type": "stream",
          "name": "stdout",
          "text": [
            "5/5 [==============================] - 0s 8ms/step\n"
          ]
        }
      ]
    },
    {
      "cell_type": "code",
      "source": [
        "# 예측 결과 저장\n",
        "submission_df[0]['predicted_weight_g'] = predictions[0:28]\n",
        "submission_df[1]['predicted_weight_g'] = predictions[28:56]\n",
        "submission_df[2]['predicted_weight_g'] = predictions[56:84]\n",
        "submission_df[3]['predicted_weight_g'] = predictions[84:112]\n",
        "submission_df[4]['predicted_weight_g'] = predictions[112:140]"
      ],
      "metadata": {
        "id": "tKRVrITPsONK",
        "outputId": "3d49a28f-4ff9-4a48-b16b-83bbb2d0161f",
        "colab": {
          "base_uri": "https://localhost:8080/",
          "height": 211
        }
      },
      "execution_count": null,
      "outputs": [
        {
          "output_type": "error",
          "ename": "NameError",
          "evalue": "name 'predictions' is not defined",
          "traceback": [
            "\u001b[0;31m---------------------------------------------------------------------------\u001b[0m",
            "\u001b[0;31mNameError\u001b[0m                                 Traceback (most recent call last)",
            "\u001b[0;32m<ipython-input-36-2b964152da55>\u001b[0m in \u001b[0;36m<cell line: 2>\u001b[0;34m()\u001b[0m\n\u001b[1;32m      1\u001b[0m \u001b[0;31m# 예측 결과 저장\u001b[0m\u001b[0;34m\u001b[0m\u001b[0;34m\u001b[0m\u001b[0m\n\u001b[0;32m----> 2\u001b[0;31m \u001b[0msubmission_df\u001b[0m\u001b[0;34m[\u001b[0m\u001b[0;36m0\u001b[0m\u001b[0;34m]\u001b[0m\u001b[0;34m[\u001b[0m\u001b[0;34m'predicted_weight_g'\u001b[0m\u001b[0;34m]\u001b[0m \u001b[0;34m=\u001b[0m \u001b[0mpredictions\u001b[0m\u001b[0;34m[\u001b[0m\u001b[0;36m0\u001b[0m\u001b[0;34m:\u001b[0m\u001b[0;36m28\u001b[0m\u001b[0;34m]\u001b[0m\u001b[0;34m\u001b[0m\u001b[0;34m\u001b[0m\u001b[0m\n\u001b[0m\u001b[1;32m      3\u001b[0m \u001b[0msubmission_df\u001b[0m\u001b[0;34m[\u001b[0m\u001b[0;36m1\u001b[0m\u001b[0;34m]\u001b[0m\u001b[0;34m[\u001b[0m\u001b[0;34m'predicted_weight_g'\u001b[0m\u001b[0;34m]\u001b[0m \u001b[0;34m=\u001b[0m \u001b[0mpredictions\u001b[0m\u001b[0;34m[\u001b[0m\u001b[0;36m28\u001b[0m\u001b[0;34m:\u001b[0m\u001b[0;36m56\u001b[0m\u001b[0;34m]\u001b[0m\u001b[0;34m\u001b[0m\u001b[0;34m\u001b[0m\u001b[0m\n\u001b[1;32m      4\u001b[0m \u001b[0msubmission_df\u001b[0m\u001b[0;34m[\u001b[0m\u001b[0;36m2\u001b[0m\u001b[0;34m]\u001b[0m\u001b[0;34m[\u001b[0m\u001b[0;34m'predicted_weight_g'\u001b[0m\u001b[0;34m]\u001b[0m \u001b[0;34m=\u001b[0m \u001b[0mpredictions\u001b[0m\u001b[0;34m[\u001b[0m\u001b[0;36m56\u001b[0m\u001b[0;34m:\u001b[0m\u001b[0;36m84\u001b[0m\u001b[0;34m]\u001b[0m\u001b[0;34m\u001b[0m\u001b[0;34m\u001b[0m\u001b[0m\n\u001b[1;32m      5\u001b[0m \u001b[0msubmission_df\u001b[0m\u001b[0;34m[\u001b[0m\u001b[0;36m3\u001b[0m\u001b[0;34m]\u001b[0m\u001b[0;34m[\u001b[0m\u001b[0;34m'predicted_weight_g'\u001b[0m\u001b[0;34m]\u001b[0m \u001b[0;34m=\u001b[0m \u001b[0mpredictions\u001b[0m\u001b[0;34m[\u001b[0m\u001b[0;36m84\u001b[0m\u001b[0;34m:\u001b[0m\u001b[0;36m112\u001b[0m\u001b[0;34m]\u001b[0m\u001b[0;34m\u001b[0m\u001b[0;34m\u001b[0m\u001b[0m\n",
            "\u001b[0;31mNameError\u001b[0m: name 'predictions' is not defined"
          ]
        }
      ]
    },
    {
      "cell_type": "code",
      "source": [
        "# 저장된 파일 읽기\n",
        "submission_df[0].to_csv('TEST_01.csv', index=False)\n",
        "submission_df[1].to_csv('TEST_02.csv', index=False)\n",
        "submission_df[2].to_csv('TEST_03.csv', index=False)\n",
        "submission_df[3].to_csv('TEST_04.csv', index=False)\n",
        "submission_df[4].to_csv('TEST_05.csv', index=False)"
      ],
      "metadata": {
        "id": "7yPx04WsUTRq"
      },
      "execution_count": null,
      "outputs": []
    },
    {
      "cell_type": "code",
      "source": [
        "from google.colab import files\n",
        "\n",
        "# 파일 다운로드\n",
        "files.download('TEST_01.csv')\n",
        "files.download('TEST_02.csv')\n",
        "files.download('TEST_03.csv')\n",
        "files.download('TEST_04.csv')\n",
        "files.download('TEST_05.csv')"
      ],
      "metadata": {
        "colab": {
          "base_uri": "https://localhost:8080/",
          "height": 17
        },
        "id": "OzOk8ag8UZpU",
        "outputId": "67976712-e520-4a71-d011-3494cc33837c"
      },
      "execution_count": null,
      "outputs": [
        {
          "output_type": "display_data",
          "data": {
            "text/plain": [
              "<IPython.core.display.Javascript object>"
            ],
            "application/javascript": [
              "\n",
              "    async function download(id, filename, size) {\n",
              "      if (!google.colab.kernel.accessAllowed) {\n",
              "        return;\n",
              "      }\n",
              "      const div = document.createElement('div');\n",
              "      const label = document.createElement('label');\n",
              "      label.textContent = `Downloading \"${filename}\": `;\n",
              "      div.appendChild(label);\n",
              "      const progress = document.createElement('progress');\n",
              "      progress.max = size;\n",
              "      div.appendChild(progress);\n",
              "      document.body.appendChild(div);\n",
              "\n",
              "      const buffers = [];\n",
              "      let downloaded = 0;\n",
              "\n",
              "      const channel = await google.colab.kernel.comms.open(id);\n",
              "      // Send a message to notify the kernel that we're ready.\n",
              "      channel.send({})\n",
              "\n",
              "      for await (const message of channel.messages) {\n",
              "        // Send a message to notify the kernel that we're ready.\n",
              "        channel.send({})\n",
              "        if (message.buffers) {\n",
              "          for (const buffer of message.buffers) {\n",
              "            buffers.push(buffer);\n",
              "            downloaded += buffer.byteLength;\n",
              "            progress.value = downloaded;\n",
              "          }\n",
              "        }\n",
              "      }\n",
              "      const blob = new Blob(buffers, {type: 'application/binary'});\n",
              "      const a = document.createElement('a');\n",
              "      a.href = window.URL.createObjectURL(blob);\n",
              "      a.download = filename;\n",
              "      div.appendChild(a);\n",
              "      a.click();\n",
              "      div.remove();\n",
              "    }\n",
              "  "
            ]
          },
          "metadata": {}
        },
        {
          "output_type": "display_data",
          "data": {
            "text/plain": [
              "<IPython.core.display.Javascript object>"
            ],
            "application/javascript": [
              "download(\"download_814556aa-87a1-4076-82a2-043e067760db\", \"TEST_01.csv\", 364)"
            ]
          },
          "metadata": {}
        },
        {
          "output_type": "display_data",
          "data": {
            "text/plain": [
              "<IPython.core.display.Javascript object>"
            ],
            "application/javascript": [
              "\n",
              "    async function download(id, filename, size) {\n",
              "      if (!google.colab.kernel.accessAllowed) {\n",
              "        return;\n",
              "      }\n",
              "      const div = document.createElement('div');\n",
              "      const label = document.createElement('label');\n",
              "      label.textContent = `Downloading \"${filename}\": `;\n",
              "      div.appendChild(label);\n",
              "      const progress = document.createElement('progress');\n",
              "      progress.max = size;\n",
              "      div.appendChild(progress);\n",
              "      document.body.appendChild(div);\n",
              "\n",
              "      const buffers = [];\n",
              "      let downloaded = 0;\n",
              "\n",
              "      const channel = await google.colab.kernel.comms.open(id);\n",
              "      // Send a message to notify the kernel that we're ready.\n",
              "      channel.send({})\n",
              "\n",
              "      for await (const message of channel.messages) {\n",
              "        // Send a message to notify the kernel that we're ready.\n",
              "        channel.send({})\n",
              "        if (message.buffers) {\n",
              "          for (const buffer of message.buffers) {\n",
              "            buffers.push(buffer);\n",
              "            downloaded += buffer.byteLength;\n",
              "            progress.value = downloaded;\n",
              "          }\n",
              "        }\n",
              "      }\n",
              "      const blob = new Blob(buffers, {type: 'application/binary'});\n",
              "      const a = document.createElement('a');\n",
              "      a.href = window.URL.createObjectURL(blob);\n",
              "      a.download = filename;\n",
              "      div.appendChild(a);\n",
              "      a.click();\n",
              "      div.remove();\n",
              "    }\n",
              "  "
            ]
          },
          "metadata": {}
        },
        {
          "output_type": "display_data",
          "data": {
            "text/plain": [
              "<IPython.core.display.Javascript object>"
            ],
            "application/javascript": [
              "download(\"download_452cbc14-a006-49a5-8344-8c08848e6a53\", \"TEST_02.csv\", 364)"
            ]
          },
          "metadata": {}
        },
        {
          "output_type": "display_data",
          "data": {
            "text/plain": [
              "<IPython.core.display.Javascript object>"
            ],
            "application/javascript": [
              "\n",
              "    async function download(id, filename, size) {\n",
              "      if (!google.colab.kernel.accessAllowed) {\n",
              "        return;\n",
              "      }\n",
              "      const div = document.createElement('div');\n",
              "      const label = document.createElement('label');\n",
              "      label.textContent = `Downloading \"${filename}\": `;\n",
              "      div.appendChild(label);\n",
              "      const progress = document.createElement('progress');\n",
              "      progress.max = size;\n",
              "      div.appendChild(progress);\n",
              "      document.body.appendChild(div);\n",
              "\n",
              "      const buffers = [];\n",
              "      let downloaded = 0;\n",
              "\n",
              "      const channel = await google.colab.kernel.comms.open(id);\n",
              "      // Send a message to notify the kernel that we're ready.\n",
              "      channel.send({})\n",
              "\n",
              "      for await (const message of channel.messages) {\n",
              "        // Send a message to notify the kernel that we're ready.\n",
              "        channel.send({})\n",
              "        if (message.buffers) {\n",
              "          for (const buffer of message.buffers) {\n",
              "            buffers.push(buffer);\n",
              "            downloaded += buffer.byteLength;\n",
              "            progress.value = downloaded;\n",
              "          }\n",
              "        }\n",
              "      }\n",
              "      const blob = new Blob(buffers, {type: 'application/binary'});\n",
              "      const a = document.createElement('a');\n",
              "      a.href = window.URL.createObjectURL(blob);\n",
              "      a.download = filename;\n",
              "      div.appendChild(a);\n",
              "      a.click();\n",
              "      div.remove();\n",
              "    }\n",
              "  "
            ]
          },
          "metadata": {}
        },
        {
          "output_type": "display_data",
          "data": {
            "text/plain": [
              "<IPython.core.display.Javascript object>"
            ],
            "application/javascript": [
              "download(\"download_b7870a48-c70e-406e-be90-6638144f8750\", \"TEST_03.csv\", 367)"
            ]
          },
          "metadata": {}
        },
        {
          "output_type": "display_data",
          "data": {
            "text/plain": [
              "<IPython.core.display.Javascript object>"
            ],
            "application/javascript": [
              "\n",
              "    async function download(id, filename, size) {\n",
              "      if (!google.colab.kernel.accessAllowed) {\n",
              "        return;\n",
              "      }\n",
              "      const div = document.createElement('div');\n",
              "      const label = document.createElement('label');\n",
              "      label.textContent = `Downloading \"${filename}\": `;\n",
              "      div.appendChild(label);\n",
              "      const progress = document.createElement('progress');\n",
              "      progress.max = size;\n",
              "      div.appendChild(progress);\n",
              "      document.body.appendChild(div);\n",
              "\n",
              "      const buffers = [];\n",
              "      let downloaded = 0;\n",
              "\n",
              "      const channel = await google.colab.kernel.comms.open(id);\n",
              "      // Send a message to notify the kernel that we're ready.\n",
              "      channel.send({})\n",
              "\n",
              "      for await (const message of channel.messages) {\n",
              "        // Send a message to notify the kernel that we're ready.\n",
              "        channel.send({})\n",
              "        if (message.buffers) {\n",
              "          for (const buffer of message.buffers) {\n",
              "            buffers.push(buffer);\n",
              "            downloaded += buffer.byteLength;\n",
              "            progress.value = downloaded;\n",
              "          }\n",
              "        }\n",
              "      }\n",
              "      const blob = new Blob(buffers, {type: 'application/binary'});\n",
              "      const a = document.createElement('a');\n",
              "      a.href = window.URL.createObjectURL(blob);\n",
              "      a.download = filename;\n",
              "      div.appendChild(a);\n",
              "      a.click();\n",
              "      div.remove();\n",
              "    }\n",
              "  "
            ]
          },
          "metadata": {}
        },
        {
          "output_type": "display_data",
          "data": {
            "text/plain": [
              "<IPython.core.display.Javascript object>"
            ],
            "application/javascript": [
              "download(\"download_f0a0180e-a53e-4be6-bd75-8b9a05aeaeff\", \"TEST_04.csv\", 361)"
            ]
          },
          "metadata": {}
        },
        {
          "output_type": "display_data",
          "data": {
            "text/plain": [
              "<IPython.core.display.Javascript object>"
            ],
            "application/javascript": [
              "\n",
              "    async function download(id, filename, size) {\n",
              "      if (!google.colab.kernel.accessAllowed) {\n",
              "        return;\n",
              "      }\n",
              "      const div = document.createElement('div');\n",
              "      const label = document.createElement('label');\n",
              "      label.textContent = `Downloading \"${filename}\": `;\n",
              "      div.appendChild(label);\n",
              "      const progress = document.createElement('progress');\n",
              "      progress.max = size;\n",
              "      div.appendChild(progress);\n",
              "      document.body.appendChild(div);\n",
              "\n",
              "      const buffers = [];\n",
              "      let downloaded = 0;\n",
              "\n",
              "      const channel = await google.colab.kernel.comms.open(id);\n",
              "      // Send a message to notify the kernel that we're ready.\n",
              "      channel.send({})\n",
              "\n",
              "      for await (const message of channel.messages) {\n",
              "        // Send a message to notify the kernel that we're ready.\n",
              "        channel.send({})\n",
              "        if (message.buffers) {\n",
              "          for (const buffer of message.buffers) {\n",
              "            buffers.push(buffer);\n",
              "            downloaded += buffer.byteLength;\n",
              "            progress.value = downloaded;\n",
              "          }\n",
              "        }\n",
              "      }\n",
              "      const blob = new Blob(buffers, {type: 'application/binary'});\n",
              "      const a = document.createElement('a');\n",
              "      a.href = window.URL.createObjectURL(blob);\n",
              "      a.download = filename;\n",
              "      div.appendChild(a);\n",
              "      a.click();\n",
              "      div.remove();\n",
              "    }\n",
              "  "
            ]
          },
          "metadata": {}
        },
        {
          "output_type": "display_data",
          "data": {
            "text/plain": [
              "<IPython.core.display.Javascript object>"
            ],
            "application/javascript": [
              "download(\"download_cc9f795c-8b95-4cc4-9f33-7707a582abd0\", \"TEST_05.csv\", 360)"
            ]
          },
          "metadata": {}
        }
      ]
    },
    {
      "cell_type": "code",
      "source": [],
      "metadata": {
        "id": "Lob_6xSenVtD"
      },
      "execution_count": null,
      "outputs": []
    }
  ]
}